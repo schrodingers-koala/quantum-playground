{
 "cells": [
  {
   "cell_type": "code",
   "execution_count": 1,
   "id": "9bd8fd7b-b5e0-4c34-a89b-132d632b7ef5",
   "metadata": {},
   "outputs": [],
   "source": [
    "# This example shows quantum cloning in one dimension. \n",
    "\n",
    "# Reference:\n",
    "# V. Buzek, S.L. Braunstein, M. Hillery, and D. Bruß, \"Quantum copying: A network\""
   ]
  },
  {
   "cell_type": "code",
   "execution_count": 2,
   "id": "97aa37d1-7bda-4de6-8482-db297de72943",
   "metadata": {},
   "outputs": [
    {
     "name": "stdout",
     "output_type": "stream",
     "text": [
      "Imports Successful\n"
     ]
    }
   ],
   "source": [
    "# import\n",
    "import numpy as np\n",
    "import scipy.linalg as lin\n",
    "import itertools\n",
    "from math import pi\n",
    "import matplotlib.pyplot as plt\n",
    "\n",
    "# %matplotlib inline\n",
    "\n",
    "from qiskit import (\n",
    "    QuantumCircuit,\n",
    "    Aer,\n",
    "    transpile,\n",
    ")\n",
    "from qiskit.visualization import (\n",
    "    plot_histogram,\n",
    "    plot_bloch_multivector\n",
    ")\n",
    "from qiskit.quantum_info import (\n",
    "    partial_trace,\n",
    ")\n",
    "from qiskit.circuit.library.standard_gates import UGate\n",
    "\n",
    "print(\"Imports Successful\")\n"
   ]
  },
  {
   "cell_type": "code",
   "execution_count": 3,
   "id": "d3333a5a-8f2a-46c9-81a1-1c7a81a0168c",
   "metadata": {},
   "outputs": [],
   "source": [
    "def calc_theta(p):\n",
    "    if p >= 0:\n",
    "        return 2 * np.arccos(np.sqrt(p))\n",
    "    else:\n",
    "        return -2 * np.arccos(np.sqrt(-p))\n",
    "\n",
    "\n",
    "def calc_attenuate_theta(p0, p1):\n",
    "    return calc_theta(p1/p0)\n",
    "\n",
    "\n",
    "def fill_result(result):\n",
    "    bit_len = len(list(result.keys())[0])\n",
    "    bit = [\"0\", \"1\"]\n",
    "    key_list = [\"\".join(bits)\n",
    "                for bits in itertools.product(bit, repeat=bit_len)]\n",
    "\n",
    "    total = sum(result.values())\n",
    "    result_new = {}\n",
    "    for k in key_list:\n",
    "        v = result.get(k)\n",
    "        result_new[k] = 0 if v is None else v / total\n",
    "    return result_new\n",
    "\n",
    "\n",
    "def count_result(result, filter_str):\n",
    "    bit_list = []\n",
    "    for bit_str in filter_str:\n",
    "        if bit_str == \"0\" or bit_str == \"1\":\n",
    "            bit_list.append([bit_str])\n",
    "        else:\n",
    "            bit_list.append([\"0\", \"1\"])\n",
    "    key_list = [\"\".join(bits) for bits in itertools.product(*bit_list)]\n",
    "\n",
    "    total = 0\n",
    "    for k in key_list:\n",
    "        total += result[k]\n",
    "\n",
    "    return total\n",
    "\n",
    "\n",
    "def round_mat(mat, delta):\n",
    "    mat_real = mat.real\n",
    "    mat_imag = mat.imag\n",
    "    mat_real = np.where(np.logical_and(-delta < mat_real,\n",
    "                        mat_real < delta), 0.0, mat_real)\n",
    "    mat_imag = np.where(np.logical_and(-delta < mat_imag,\n",
    "                        mat_imag < delta), 0.0, mat_imag)\n",
    "    return mat_real + mat_imag * 1.0j\n",
    "\n",
    "\n",
    "def fidelity(rho, sigma):\n",
    "    rho_round = round_mat(rho, 0.00001)\n",
    "    sigma_round = round_mat(sigma, 0.00001)\n",
    "    rho_1_2, _ = lin.sqrtm(np.array(rho_round), False)\n",
    "    sq_fidelity_mat = np.matmul(\n",
    "        np.matmul(rho_1_2, np.array(sigma_round)), rho_1_2)\n",
    "    fidelity_mat, _ = lin.sqrtm(sq_fidelity_mat, False)\n",
    "    return np.trace(fidelity_mat)\n",
    "\n",
    "\n",
    "def fidelity_alt(rho, sigma):\n",
    "    density_diff = rho - sigma\n",
    "    fidelity_mat = np.matmul(density_diff, density_diff)\n",
    "    return np.trace(fidelity_mat)\n"
   ]
  },
  {
   "cell_type": "code",
   "execution_count": 4,
   "id": "472d0fe7-ed54-4381-a363-9cb3d4953ee9",
   "metadata": {},
   "outputs": [],
   "source": [
    "def setup_state(qsetup, qc, q0):\n",
    "    if type(qsetup) == tuple:\n",
    "        q0_setup = qsetup\n",
    "        qc.u(q0_setup[0], q0_setup[1], q0_setup[2], q0)\n",
    "    else:\n",
    "        if qsetup == \"|0>\":\n",
    "            pass\n",
    "        elif qsetup == \"|1>\":\n",
    "            qc.x(q1)\n",
    "        else:\n",
    "            raise Exception(\"Invalid qsetup {}\".format(qsetup))\n",
    "\n",
    "\n",
    "def setup_U(Usetup, qc, q0):\n",
    "    if type(Usetup) == tuple:\n",
    "        q0_setup = Usetup\n",
    "        qc.u(q0_setup[0], q0_setup[1], q0_setup[2], q0)\n",
    "    else:\n",
    "        qc.x(q0)\n",
    "\n",
    "\n",
    "def calc_qc_fidelity(qc_setup, sampleN):\n",
    "    # calculate the fidelity of cloning\n",
    "    def calc_density(sim_setup):\n",
    "        sv_simulator = sim_setup[0]\n",
    "        circuit = sim_setup[1]\n",
    "        trace_reduced = sim_setup[2]\n",
    "        trace_measure = sim_setup[3]\n",
    "        statevector_sim = np.asarray(\n",
    "            sv_simulator.run(circuit).result().data()['statevector'])\n",
    "        if len(trace_measure) > 0:\n",
    "            statedensity_measure = np.array(partial_trace(\n",
    "                statevector_sim, trace_measure)).real\n",
    "        return True, np.array(\n",
    "            partial_trace(statevector_sim, trace_reduced))\n",
    "\n",
    "    def calc_density_list(sim_setup, sampleN):\n",
    "        count = 0.0\n",
    "        count_success = 0.0\n",
    "        density_list = []\n",
    "        statedensity = None\n",
    "        while True:\n",
    "            if count >= sampleN:\n",
    "                break\n",
    "            if len(sim_setup[3]) > 0 or statedensity is None:\n",
    "                flag, statedensity = calc_density(sim_setup)\n",
    "            count += 1.0\n",
    "            if not flag:\n",
    "                continue\n",
    "            count_success += 1.0\n",
    "            density_list.append(statedensity)\n",
    "        return density_list, count_success/count\n",
    "\n",
    "    # make sim_setup_list\n",
    "    sim_setup_list = []\n",
    "    for qc, qc_qbits, qc_cbits in qc_setup:\n",
    "        trace_reduced = list(set(list(range(qc.num_qubits))) - set(qc_qbits))\n",
    "        trace_measure = list(set(list(range(qc.num_qubits))) - set(qc_cbits))\n",
    "        sv_simulator = Aer.get_backend('statevector_simulator')\n",
    "        sim_setup_list.append(\n",
    "            (sv_simulator,\n",
    "             transpile(qc, backend=sv_simulator),\n",
    "             trace_reduced,\n",
    "             trace_measure)\n",
    "        )\n",
    "\n",
    "    # calculate the average of fidelity\n",
    "    density_list0, success_rate0 = calc_density_list(\n",
    "        sim_setup_list[0], sampleN)\n",
    "    density_list1, success_rate1 = calc_density_list(\n",
    "        sim_setup_list[1], sampleN)\n",
    "    avg_fidelity = 0.0\n",
    "    for density0, density1 in zip(density_list0, density_list1):\n",
    "        avg_fidelity += fidelity(density0, density1) / sampleN\n",
    "\n",
    "    return avg_fidelity, success_rate0, success_rate1\n",
    "\n",
    "\n",
    "def calc_qc_fidelity_list(qsetup_list, qc_build_setup, sampleN):\n",
    "    fidelity_list = []\n",
    "    for qsetup in qsetup_list:\n",
    "        qc_setup = (\n",
    "            (qc_build_setup[0][0](qsetup), *qc_build_setup[0][1:3]),\n",
    "            (qc_build_setup[1][0](qsetup), *qc_build_setup[1][1:3]),\n",
    "        )\n",
    "        avg_fidelity, success_rate0, success_rate1 = calc_qc_fidelity(\n",
    "            qc_setup, sampleN)\n",
    "        fidelity_list.append(\n",
    "            (qsetup, avg_fidelity, success_rate0, success_rate1))\n",
    "    return fidelity_list\n",
    "\n",
    "\n",
    "def calc_global_fidelity(qc_build_setup):\n",
    "    sampleN = 100\n",
    "    num0 = 5\n",
    "    num1 = 8\n",
    "    q0_theta_list = np.linspace(0, pi, num0, endpoint=True)\n",
    "    q0_phi_list = np.linspace(-pi, pi, num1, endpoint=False)\n",
    "\n",
    "    # make qsetup_list\n",
    "    qsetup_list = []\n",
    "    for q0_theta, q0_phi in itertools.product(q0_theta_list, q0_phi_list):\n",
    "        if q0_theta == 0 and q0_phi != -pi:\n",
    "            continue\n",
    "        if q0_theta == pi and q0_phi != -pi:\n",
    "            continue\n",
    "        # q0 (= cos(theta0/2)|0> + exp(i*phi0)*sin(theta0/2)|1>)\n",
    "        q0_setup = (q0_theta, q0_phi, 0)\n",
    "        qsetup_list.append(q0_setup)\n",
    "\n",
    "    # calculate the fidelity\n",
    "    fidelity_result_list = calc_qc_fidelity_list(\n",
    "        qsetup_list, qc_build_setup, sampleN)\n",
    "\n",
    "    # arrange the result into a list.\n",
    "    sum_success_rate = 0.0\n",
    "    fidelity_list = np.empty([0])\n",
    "    for fidelity_result in fidelity_result_list:\n",
    "        fidelity_list = np.append(fidelity_list, [fidelity_result[1].real])\n",
    "        sum_success_rate += fidelity_result[3]\n",
    "\n",
    "    print(f'number of points = {len(fidelity_result_list)}')\n",
    "    return fidelity_list, fidelity_result_list\n",
    "\n",
    "\n",
    "def plot_fidelity(qc_build_setup, q0_in_setup):\n",
    "    # q0 is set to cos(theta0/2)|0> + exp(i*phi0)*sin(theta0/2)|1>\n",
    "    sampleN = 1\n",
    "    theta3_list = np.linspace(-pi, pi, 32)\n",
    "    sum_success_rate = 0\n",
    "\n",
    "    # make qsetup_list\n",
    "    qsetup_list = []\n",
    "    for theta3 in theta3_list:\n",
    "        q0_setup = (theta3, q0_in_setup[1], q0_in_setup[2])\n",
    "        qsetup_list.append(q0_setup)\n",
    "\n",
    "    # calculate the fidelity\n",
    "    fidelity_list = calc_qc_fidelity_list(\n",
    "        qsetup_list, qc_build_setup, sampleN)\n",
    "    \n",
    "    # plot the fidelity\n",
    "    sum_success_rate = 0.0\n",
    "    y_list = np.empty([0, 2])\n",
    "    for fidelity_info in fidelity_list:\n",
    "        y_list = np.append(y_list, [fidelity_info[1].real])\n",
    "        sum_success_rate += fidelity_info[3]\n",
    "    plt.plot(theta3_list, y_list)\n",
    "    plt.title(f\"Fidelity\\n(initial state q0 = (theta, {q0_in_setup[1]:.2f}, {q0_in_setup[2]:.2f})\")\n",
    "    plt.ylim([0, 1])\n",
    "    plt.ylabel(\"Fidelity\")\n",
    "    plt.xlabel(\"theta\")\n",
    "\n"
   ]
  },
  {
   "cell_type": "code",
   "execution_count": 5,
   "id": "8835bab8-efaa-4b45-8780-74b2b81e59c0",
   "metadata": {},
   "outputs": [],
   "source": [
    "# quantum circuit\n",
    "def example_no_clone(qsetup):\n",
    "    # q0\n",
    "    # q1 = q0\n",
    "    qc = QuantumCircuit(2)\n",
    "    setup_state(qsetup, qc, 0)\n",
    "    setup_state(qsetup, qc, 1)\n",
    "    return qc\n",
    "\n",
    "\n",
    "def example_clone(qsetup):\n",
    "    # q0: input (a|0> + b|1>), clone3 if a and b are real\n",
    "    # q1: clone1\n",
    "    # q2: clone2\n",
    "    qc = QuantumCircuit(3)\n",
    "\n",
    "    theta1 = pi/8 * 2\n",
    "    theta2 = -np.arcsin(np.sqrt(1.0/2 - np.sqrt(2.0)/3)) * 2\n",
    "    theta3 = pi/8 * 2\n",
    "    \n",
    "    setup_state(qsetup, qc, 0)\n",
    "\n",
    "    qc.barrier()\n",
    "\n",
    "    angle = 0\n",
    "    qc.u(theta1, angle, angle, 1)\n",
    "    qc.cx(1, 2)\n",
    "    qc.u(theta2, angle, angle, 2)\n",
    "    qc.cx(2, 1)\n",
    "    qc.u(theta3, angle, angle, 1)\n",
    "\n",
    "    qc.barrier()\n",
    "\n",
    "    qc.cx(0, 1)\n",
    "    qc.cx(0, 2)\n",
    "    qc.cx(1, 0)\n",
    "    qc.cx(2, 0)\n",
    "    \n",
    "    return qc"
   ]
  },
  {
   "cell_type": "code",
   "execution_count": 6,
   "id": "1d032867-19d8-49aa-8309-32045c1eda4b",
   "metadata": {},
   "outputs": [
    {
     "data": {
      "image/png": "[encoded data removed]",
      "text/plain": [
       "<Figure size 869.197x204.68 with 1 Axes>"
      ]
     },
     "execution_count": 6,
     "metadata": {},
     "output_type": "execute_result"
    }
   ],
   "source": [
    "# cloning\n",
    "qc = example_clone((pi, 0, 0))\n",
    "qc.draw(output=\"mpl\")\n"
   ]
  },
  {
   "cell_type": "code",
   "execution_count": 7,
   "id": "54dc4aa7-064e-48f6-bb59-521484f7b7a5",
   "metadata": {},
   "outputs": [
    {
     "data": {
      "image/png": "[encoded data removed]",
      "text/plain": [
       "<Figure size 146.652x144.48 with 1 Axes>"
      ]
     },
     "execution_count": 7,
     "metadata": {},
     "output_type": "execute_result"
    }
   ],
   "source": [
    "# no cloning\n",
    "qc = example_no_clone((pi, 0, 0))\n",
    "qc.draw(output=\"mpl\")\n"
   ]
  },
  {
   "cell_type": "code",
   "execution_count": 8,
   "id": "a7d18a2a-ec57-48e3-929a-a0efb4d4de21",
   "metadata": {},
   "outputs": [],
   "source": [
    "q0_rand_setup = (float(pi*np.random.rand(1)), 0, 0) # (theta, phi, lambda)\n"
   ]
  },
  {
   "cell_type": "code",
   "execution_count": 9,
   "id": "7a638964-dd3c-41cb-8537-0b1280ddeadd",
   "metadata": {},
   "outputs": [
    {
     "data": {
      "image/png": "[encoded data removed]",
      "text/plain": [
       "<Figure size 432x288 with 1 Axes>"
      ]
     },
     "metadata": {
      "needs_background": "light"
     },
     "output_type": "display_data"
    }
   ],
   "source": [
    "# example: q0 (= cos(theta0/2)|0> + exp(i*phi0)*sin(theta0/2)|1>)\n",
    "# fidelity of q1 and q2\n",
    "\n",
    "plot_fidelity(\n",
    "    (\n",
    "        (example_no_clone, [0, 1], []),  # q0, q1 = q0\n",
    "        # q1 (clone of q0), q2 (clone of q0)\n",
    "        (example_clone, [1, 2], []),\n",
    "    ),\n",
    "    q0_rand_setup,\n",
    ")\n"
   ]
  },
  {
   "cell_type": "code",
   "execution_count": 10,
   "id": "77e96944-4709-43f6-99a1-8b19f41ad3c0",
   "metadata": {},
   "outputs": [
    {
     "data": {
      "image/png": "[encoded data removed]",
      "text/plain": [
       "<Figure size 432x288 with 1 Axes>"
      ]
     },
     "metadata": {
      "needs_background": "light"
     },
     "output_type": "display_data"
    }
   ],
   "source": [
    "# example: q0 (= cos(theta0/2)|0> + exp(i*phi0)*sin(theta0/2)|1>)\n",
    "# fidelity of q1\n",
    "\n",
    "plot_fidelity(\n",
    "    (\n",
    "        (example_no_clone, [0], []),  # q0\n",
    "        # q1 (clone of q0)\n",
    "        (example_clone, [1], []),\n",
    "    ),\n",
    "    q0_rand_setup,\n",
    ")\n"
   ]
  },
  {
   "cell_type": "code",
   "execution_count": 11,
   "id": "c336f751-b546-4bae-838e-5199bdf4cd9f",
   "metadata": {},
   "outputs": [
    {
     "name": "stdout",
     "output_type": "stream",
     "text": [
      "number of points = 26\n",
      "fidelity = 0.8164965809277274\n"
     ]
    }
   ],
   "source": [
    "# example: q0 (= cos(theta0/2)|0> + exp(i*phi0)*sin(theta0/2)|1>)\n",
    "\n",
    "fidelity_list0, fidelity_result_list0 = calc_global_fidelity(\n",
    "    (\n",
    "        (example_no_clone, [0, 1], []),  # q0, q1 = q0\n",
    "        # q1 (clone of q0), q2 (clone of q0)\n",
    "        (example_clone, [1, 2], []),\n",
    "    )\n",
    ")\n",
    "print(f'fidelity = {np.min(fidelity_list0)}')"
   ]
  },
  {
   "cell_type": "code",
   "execution_count": null,
   "id": "1761c09c-fa4c-424b-a53e-381b47c7743a",
   "metadata": {},
   "outputs": [],
   "source": []
  }
 ],
 "metadata": {
  "kernelspec": {
   "display_name": "Python 3 (ipykernel)",
   "language": "python",
   "name": "python3"
  },
  "language_info": {
   "codemirror_mode": {
    "name": "ipython",
    "version": 3
   },
   "file_extension": ".py",
   "mimetype": "text/x-python",
   "name": "python",
   "nbconvert_exporter": "python",
   "pygments_lexer": "ipython3",
   "version": "3.10.6"
  }
 },
 "nbformat": 4,
 "nbformat_minor": 5
}
