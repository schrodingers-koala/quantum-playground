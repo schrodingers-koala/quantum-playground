{
 "cells": [
  {
   "cell_type": "markdown",
   "id": "a3d462bf-85a1-40e5-aa77-d8924f7962e3",
   "metadata": {},
   "source": [
    "# Quantum Operation Transposing"
   ]
  },
  {
   "cell_type": "markdown",
   "id": "6c5c6b40-0d22-4ea9-b078-2789ec80151d",
   "metadata": {},
   "source": [
    "It is impossible for a quantum cirtuit to perform transposing which transforms a completely unknown unitary gate U into its transpose U^T.\n",
    "But, if non-unit probability in a quantum circuit is allowed, the quantum time flip can realize the transposing.\n",
    "This article shows an example of transposing by the quantum time flip.\n",
    "\n",
    "Reference:\n",
    "- Giulio Chiribella and Zixuan Liu, \"Quantum operations with indefinite time direction.\""
   ]
  },
  {
   "cell_type": "code",
   "execution_count": 1,
   "id": "d2e024df-78db-47d7-8a4c-0599a9738115",
   "metadata": {},
   "outputs": [
    {
     "name": "stdout",
     "output_type": "stream",
     "text": [
      "Imports Successful\n"
     ]
    }
   ],
   "source": [
    "# import\n",
    "import numpy as np\n",
    "import itertools\n",
    "from math import pi\n",
    "import matplotlib.pyplot as plt\n",
    "\n",
    "#%matplotlib inline\n",
    "\n",
    "from qiskit import (\n",
    "    QuantumCircuit,\n",
    "    ClassicalRegister,\n",
    "    QuantumRegister,\n",
    "    execute,\n",
    "    BasicAer,\n",
    "    Aer,\n",
    "    transpile,\n",
    "    assemble,\n",
    ")\n",
    "from qiskit.visualization import plot_histogram, plot_bloch_multivector\n",
    "from qiskit.quantum_info.operators import Operator\n",
    "from qiskit.quantum_info import Statevector, partial_trace\n",
    "from qiskit.circuit.library import YGate, ZGate, SGate\n",
    "\n",
    "print(\"Imports Successful\")\n"
   ]
  },
  {
   "cell_type": "code",
   "execution_count": 2,
   "id": "e99e7248-bc40-445a-8cfa-4ad9947a5f9d",
   "metadata": {},
   "outputs": [],
   "source": [
    "def calc_theta(p):\n",
    "    return 2 * np.arccos(np.sqrt(p))\n",
    "\n",
    "\n",
    "def fill_result(result):\n",
    "    bit_len = len(list(result.keys())[0])\n",
    "    bit = [\"0\", \"1\"]\n",
    "    key_list = [\"\".join(bits) for bits in itertools.product(bit, repeat=bit_len)]\n",
    "\n",
    "    total = sum(result.values())\n",
    "    result_new = {}\n",
    "    for k in key_list:\n",
    "        v = result.get(k)\n",
    "        result_new[k] = 0 if v is None else v / total\n",
    "    return result_new\n",
    "\n",
    "\n",
    "def count_result(result, filter_str):\n",
    "    bit_list = []\n",
    "    for bit_str in filter_str:\n",
    "        if bit_str == \"0\" or bit_str == \"1\":\n",
    "            bit_list.append([bit_str])\n",
    "        else:\n",
    "            bit_list.append([\"0\", \"1\"])\n",
    "    key_list = [\"\".join(bits) for bits in itertools.product(*bit_list)]\n",
    "\n",
    "    total = 0\n",
    "    for k in key_list:\n",
    "        total += result[k]\n",
    "\n",
    "    return total\n"
   ]
  },
  {
   "cell_type": "code",
   "execution_count": 3,
   "id": "6a6ea00c-7169-442b-9736-1728ac0f32e4",
   "metadata": {},
   "outputs": [],
   "source": [
    "# Calculate probability where post-measurement state corresponds to bits.\n",
    "def calcP(statevec, bits, with_statevec=False):\n",
    "    proj = None\n",
    "    for bit in bits:\n",
    "        if bit==0:\n",
    "            qb = Statevector([1, 0]).to_operator()\n",
    "        elif bit==1:\n",
    "            qb = Statevector([0, 1]).to_operator()\n",
    "        else:\n",
    "            qb = Operator([[1, 0], [0, 1]])\n",
    "        proj = qb if proj is None else proj.tensor(qb)\n",
    "    measure = statevec.evolve(proj)\n",
    "    p = measure.inner(measure)\n",
    "    if with_statevec:\n",
    "        return p, measure\n",
    "    else:\n",
    "        return p\n",
    "\n",
    "# Calculate post-measurement state.\n",
    "def statevec_cond(statevec, bits):\n",
    "    qargs = [n for n, v in enumerate(reversed(bits)) if v is not None]\n",
    "    return partial_trace(statevec, qargs)\n",
    "\n",
    "# Calculate probability and post-measurement state.\n",
    "def statevec_mean_cond(statevector, bits):\n",
    "    p, measure = calcP(statevector, bits, with_statevec=True)\n",
    "    densitymatrix = statevec_cond(partial_trace(measure, []), bits)\n",
    "    return p, densitymatrix/p\n",
    "\n",
    "# Calculate probability and post-measurement state by sampling.\n",
    "def statevec_mean_cond_sample(res, bits):\n",
    "    nbit = len([v for v in bits if v is None])\n",
    "    densitymatrix = None\n",
    "    for bit in range(nbit):\n",
    "        qb = Operator([[0, 0], [0, 0]])\n",
    "        densitymatrix = qb if densitymatrix is None else densitymatrix.tensor(qb)\n",
    "    count = 0\n",
    "    for statevector in res:\n",
    "        p = abs(calcP(statevector, bits))\n",
    "        if p > 1 - 0.000000001:\n",
    "            densitymatrix += statevec_cond(statevector, bits)\n",
    "            count += 1\n",
    "    return count*1.0/len(res), densitymatrix/count if count > 0 else None"
   ]
  },
  {
   "cell_type": "code",
   "execution_count": 4,
   "id": "634dc583-39cb-490c-b269-f65acde1e2a9",
   "metadata": {},
   "outputs": [],
   "source": [
    "# Quantum time flip\n",
    "def qtimeflip_g(qc, f, measure_flag=True):    \n",
    "    qc.barrier()\n",
    "    qc.h(1)\n",
    "    qc.cx(1, 2)\n",
    "    f(qc, 2)\n",
    "    qc.fredkin(3, 1, 2)\n",
    "    qc.cx(0, 1)\n",
    "    qc.h(0)\n",
    "    if measure_flag:\n",
    "        qc.measure(0, 0)\n",
    "        qc.measure(1, 1)\n",
    "    qc.barrier()\n",
    "    return qc\n",
    "\n",
    "# Test circuit\n",
    "def qtf_test_qc(control_x, p_i, p_f, p_i2=pi/2, p_f2=pi/2, measure_flag=True, qs_measure_flag=True):  \n",
    "    theta_i, phi_i, lmd_i = p_i, p_i2, p_i2\n",
    "    theta_f, phi_f, lmd_f = p_f, p_f2, p_f2\n",
    "    def ini(qc, q):\n",
    "        qc.u(theta_i, phi_i, lmd_i, q)\n",
    "        \n",
    "    def f(qc, q):\n",
    "        qc.u(theta_f, phi_f, lmd_f, q)\n",
    "\n",
    "    def inv_ini(qc, q):\n",
    "        qc.u(-theta_i, -lmd_i, -phi_i, q)\n",
    "\n",
    "    def inv_transpose_f(qc, q):\n",
    "        qc.u(theta_f, -lmd_f, -phi_f, q)\n",
    "\n",
    "    def inv_f(qc, q):\n",
    "        qc.u(-theta_f, -lmd_f, -phi_f, q)\n",
    "        \n",
    "    # Initialize\n",
    "    qc = QuantumCircuit(4, 3)\n",
    "    if control_x == 1: # quantum time flip conrtol\n",
    "        qc.x(3)\n",
    "    ini(qc, 0)\n",
    "    # quantum time flip\n",
    "    qtimeflip_g(qc, f, measure_flag=qs_measure_flag)\n",
    "    # reverse\n",
    "    if control_x == 1:\n",
    "        inv_transpose_f(qc, 2)\n",
    "    else:\n",
    "        inv_f(qc, 2)\n",
    "    inv_ini(qc, 2)\n",
    "    if measure_flag:\n",
    "        qc.measure(2, 2)\n",
    "    return qc"
   ]
  },
  {
   "cell_type": "code",
   "execution_count": 5,
   "id": "eb22ac30-ba6d-4478-8d24-1111c5d90161",
   "metadata": {},
   "outputs": [
    {
     "data": {
      "image/png": "[encoded data removed]",
      "text/plain": [
       "<Figure size 1170.2x325.08 with 1 Axes>"
      ]
     },
     "execution_count": 5,
     "metadata": {},
     "output_type": "execute_result"
    }
   ],
   "source": [
    "# This example produces a test circuit of quantum time flip with a control qubit q3, input q0, output q2 and an operator f.\n",
    "# q0 and q1 are used for quantum teleportation.\n",
    "# This circuit prepares the state of q0 by using an unitary operation (ini).\n",
    "# And, this circuit performs the following operations to output q2 of the quantum time flip.\n",
    "# - inverted operation of f^T if the control qubit is 1 or inverted operation of f if the control qubit is 0.\n",
    "# - inverted operation of ini.\n",
    "# Therefore, the final state of q2 becomes |0> if the quantum time flip finishes successfully.\n",
    "control_x = 1\n",
    "p_i, p_f = tuple((np.random.rand(2)-0.5)*2*pi)\n",
    "p_i2, p_f2 = tuple((np.random.rand(2)-0.5)*2*pi)\n",
    "qc = qtf_test_qc(control_x, p_i, p_f, p_i2=p_i2, p_f2=p_f2, measure_flag=True, qs_measure_flag=True)\n",
    "qc.draw(output=\"mpl\")"
   ]
  },
  {
   "cell_type": "code",
   "execution_count": 6,
   "id": "2ab3eeaf-7163-4828-828f-c6039e916d65",
   "metadata": {},
   "outputs": [
    {
     "data": {
      "image/png": "[encoded data removed]",
      "text/plain": [
       "<Figure size 504x360 with 1 Axes>"
      ]
     },
     "execution_count": 6,
     "metadata": {},
     "output_type": "execute_result"
    }
   ],
   "source": [
    "# The quantum time flip measures output q0 and q1 of quantum teleportation\n",
    "# and obtains one of four possible classical results. (00, 01, 10 and 11)\n",
    "# If (q1, q0) = (0, 0), the quantum time flip successfully finishes.\n",
    "# This result shows that,\n",
    "# - the probability that (q2, q1, q0) becomes (0, 0, 0) is about 0.25.\n",
    "# - the probability that (q2, q1, q0) becomes (1, 0, 0) is 0.\n",
    "# It means that the probability that (q1, q0) becomes (0, 0) is about 0.25, q2 = |0>,\n",
    "# and the quantum time flip finishes successfully\n",
    "aer_sim = Aer.get_backend(\"aer_simulator\")\n",
    "job = aer_sim.run(assemble(qc), shots=4096)\n",
    "result = job.result().get_counts()\n",
    "plot_histogram(result)"
   ]
  },
  {
   "cell_type": "code",
   "execution_count": 7,
   "id": "e34afcd0-0b7f-4b99-91d5-8d68cae70e3e",
   "metadata": {},
   "outputs": [
    {
     "data": {
      "image/png": "[encoded data removed]",
      "text/plain": [
       "<Figure size 1049.8x325.08 with 1 Axes>"
      ]
     },
     "execution_count": 7,
     "metadata": {},
     "output_type": "execute_result"
    }
   ],
   "source": [
    "# Another simulation.\n",
    "# This example calculates the density matrix of the state.\n",
    "# To calculate the density matrix, the recipient skips the measurement of the state.\n",
    "control_x = 1\n",
    "p_i, p_f = tuple((np.random.rand(2)-0.5)*2*pi)\n",
    "p_i2, p_f2 = tuple((np.random.rand(2)-0.5)*2*pi)\n",
    "qc = qtf_test_qc(control_x, p_i, p_f, p_i2=p_i2, p_f2=p_f2, measure_flag=False, qs_measure_flag=False)\n",
    "qc.draw(output=\"mpl\")"
   ]
  },
  {
   "cell_type": "code",
   "execution_count": 8,
   "id": "8e8c0172-563e-409f-b40f-c2c15a329179",
   "metadata": {},
   "outputs": [],
   "source": [
    "# The quantum time flip measures output q0 and q1 of quantum teleportation\n",
    "# and obtains one of four possible classical results. (00, 01, 10 and 11)\n",
    "sv_simulator = Aer.get_backend('statevector_simulator')\n",
    "circuit = transpile(qc, backend=sv_simulator)\n",
    "statevector = sv_simulator.run(circuit).result().data()['statevector']"
   ]
  },
  {
   "cell_type": "code",
   "execution_count": 9,
   "id": "405ddd69-e3ae-4164-8fb9-740a68437503",
   "metadata": {},
   "outputs": [
    {
     "data": {
      "text/plain": [
       "((0.2500000000000001+0j),\n",
       " DensityMatrix([[1.00000000e+00+0.00000000e+00j,\n",
       "                 1.07552856e-16-2.22044605e-16j],\n",
       "                [1.07552856e-16+2.22044605e-16j,\n",
       "                 6.08714233e-32+0.00000000e+00j]],\n",
       "               dims=(2,)))"
      ]
     },
     "execution_count": 9,
     "metadata": {},
     "output_type": "execute_result"
    }
   ],
   "source": [
    "# This result shows q2 = |0> if (q2, q1) = (0, 0). q3 is fixed to |1>.\n",
    "# As a result, the quantum time flip successfully finishes if (q2, q1) = (0, 0).\n",
    "statevec_mean_cond(statevector, [control_x, None, 0, 0])"
   ]
  },
  {
   "cell_type": "code",
   "execution_count": null,
   "id": "95b04b46-62a7-4c9d-a95a-ba1a0e964018",
   "metadata": {},
   "outputs": [],
   "source": []
  }
 ],
 "metadata": {
  "kernelspec": {
   "display_name": "Python 3 (ipykernel)",
   "language": "python",
   "name": "python3"
  },
  "language_info": {
   "codemirror_mode": {
    "name": "ipython",
    "version": 3
   },
   "file_extension": ".py",
   "mimetype": "text/x-python",
   "name": "python",
   "nbconvert_exporter": "python",
   "pygments_lexer": "ipython3",
   "version": "3.10.6"
  }
 },
 "nbformat": 4,
 "nbformat_minor": 5
}
