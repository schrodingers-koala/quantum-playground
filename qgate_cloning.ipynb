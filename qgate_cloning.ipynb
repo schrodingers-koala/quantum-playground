{
 "cells": [
  {
   "cell_type": "markdown",
   "id": "13b3d150",
   "metadata": {},
   "source": [
    "# Quantum Gate Cloning"
   ]
  },
  {
   "cell_type": "code",
   "execution_count": null,
   "id": "236dab55",
   "metadata": {},
   "outputs": [],
   "source": [
    "# This example shows one-to-two cloning of unitary gate in one dimension. \n",
    "\n",
    "# Reference:\n",
    "# Giulio Chiribella, Giacomo Mauro D’Ariano, and Paolo Perinotti, \"Optimal cloning of unitary transformations\""
   ]
  },
  {
   "cell_type": "code",
   "execution_count": 1,
   "id": "4bd3e958",
   "metadata": {},
   "outputs": [
    {
     "name": "stdout",
     "output_type": "stream",
     "text": [
      "Imports Successful\n"
     ]
    }
   ],
   "source": [
    "# import\n",
    "import numpy as np\n",
    "import scipy.linalg as lin\n",
    "import itertools\n",
    "from math import pi\n",
    "import matplotlib.pyplot as plt\n",
    "\n",
    "# %matplotlib inline\n",
    "\n",
    "from qiskit import (\n",
    "    QuantumCircuit,\n",
    "    Aer,\n",
    "    transpile,\n",
    ")\n",
    "from qiskit.visualization import (\n",
    "    plot_histogram,\n",
    "    plot_bloch_multivector\n",
    ")\n",
    "from qiskit.quantum_info import (\n",
    "    partial_trace,\n",
    ")\n",
    "from qiskit.circuit.library.standard_gates import UGate\n",
    "\n",
    "print(\"Imports Successful\")\n"
   ]
  },
  {
   "cell_type": "code",
   "execution_count": 2,
   "id": "317cde03",
   "metadata": {},
   "outputs": [],
   "source": [
    "def calc_theta(p):\n",
    "    if p >= 0:\n",
    "        return 2 * np.arccos(np.sqrt(p))\n",
    "    else:\n",
    "        return -2 * np.arccos(np.sqrt(-p))\n",
    "\n",
    "\n",
    "def calc_attenuate_theta(p0, p1):\n",
    "    return calc_theta(p1/p0)\n",
    "\n",
    "\n",
    "def fill_result(result):\n",
    "    bit_len = len(list(result.keys())[0])\n",
    "    bit = [\"0\", \"1\"]\n",
    "    key_list = [\"\".join(bits)\n",
    "                for bits in itertools.product(bit, repeat=bit_len)]\n",
    "\n",
    "    total = sum(result.values())\n",
    "    result_new = {}\n",
    "    for k in key_list:\n",
    "        v = result.get(k)\n",
    "        result_new[k] = 0 if v is None else v / total\n",
    "    return result_new\n",
    "\n",
    "\n",
    "def count_result(result, filter_str):\n",
    "    bit_list = []\n",
    "    for bit_str in filter_str:\n",
    "        if bit_str == \"0\" or bit_str == \"1\":\n",
    "            bit_list.append([bit_str])\n",
    "        else:\n",
    "            bit_list.append([\"0\", \"1\"])\n",
    "    key_list = [\"\".join(bits) for bits in itertools.product(*bit_list)]\n",
    "\n",
    "    total = 0\n",
    "    for k in key_list:\n",
    "        total += result[k]\n",
    "\n",
    "    return total\n",
    "\n",
    "\n",
    "def round_mat(mat, delta):\n",
    "    mat_real = mat.real\n",
    "    mat_imag = mat.imag\n",
    "    mat_real = np.where(np.logical_and(-delta < mat_real,\n",
    "                        mat_real < delta), 0.0, mat_real)\n",
    "    mat_imag = np.where(np.logical_and(-delta < mat_imag,\n",
    "                        mat_imag < delta), 0.0, mat_imag)\n",
    "    return mat_real + mat_imag * 1.0j\n",
    "\n",
    "\n",
    "def fidelity(rho, sigma):\n",
    "    rho_round = round_mat(rho, 0.00001)\n",
    "    sigma_round = round_mat(sigma, 0.00001)\n",
    "    rho_1_2, _ = lin.sqrtm(np.array(rho_round), False)\n",
    "    sq_fidelity_mat = np.matmul(\n",
    "        np.matmul(rho_1_2, np.array(sigma_round)), rho_1_2)\n",
    "    fidelity_mat, _ = lin.sqrtm(sq_fidelity_mat, False)\n",
    "    return np.trace(fidelity_mat)\n"
   ]
  },
  {
   "cell_type": "code",
   "execution_count": 3,
   "id": "14acd647",
   "metadata": {
    "tags": []
   },
   "outputs": [],
   "source": [
    "def attenuate(qc, q0, q1, c0, p0, p1):\n",
    "    # q0: target qubit\n",
    "    # q1: qubit (ancilla)\n",
    "    # c0: classical bit (ancilla)\n",
    "    # p0: real coefficient\n",
    "    # p1: real coefficient\n",
    "    # if c0 = 0 then q0  = (sqrt(a1)|0> + sqrt(a2)|1>) / sqrt(a1 + a2)\n",
    "    #             -> q0' = (sqrt(a1 * p0)|0> + sqrt(a2 * p1)|1>) / sqrt(a1 * p0 + a2 * p1)\n",
    "    # if c0 = 1 then q0  -> q0' = |0>\n",
    "\n",
    "    # sin(theta0 / 2)^2 = gamma = 1 - p1/p0\n",
    "    theta0 = calc_attenuate_theta(p0, p1)\n",
    "    # UGate(theta0, 0, q0) = exp(-i * theta0 * Y / 2)\n",
    "    # = [ [cos(theta0 / 2), -sin(theta0 / 2)],\n",
    "    #     [sin(theta0 / 2),  cos(theta0 / 2)] ]\n",
    "    control_UGate = UGate(theta0, 0, q0).control(1)\n",
    "    qc.append(control_UGate, [q0, q1])\n",
    "    qc.cx(q1, q0)\n",
    "    qc.measure(q1, c0)\n",
    "\n",
    "\n",
    "def attenuate_2q(qc, q0, q1, q2, q3, c0, p0, p1):\n",
    "    # q0: target qubit\n",
    "    # q1: target qubit\n",
    "    # q2: qubit (ancilla)\n",
    "    # q3: qubit (ancilla)\n",
    "    # c0: classical bit (ancilla)\n",
    "    # p0: real coefficient\n",
    "    # p1: real coefficient\n",
    "    # unitary gate =\n",
    "    #  [[p0,  0,  0,  0],\n",
    "    #   [ 0, p0,  0,  0],\n",
    "    #   [ 0,  0, p0,  0],\n",
    "    #   [ 0,  0,  0, p1]], if c0 = 0\n",
    "    if p0 < p1:\n",
    "        qc.x(q2)\n",
    "    qc.ccx(q0, q1, q2)\n",
    "    if p0 < p1:\n",
    "        attenuate(qc, q2, q3, c0, p1, p0)\n",
    "    else:\n",
    "        attenuate(qc, q2, q3, c0, p0, p1)\n",
    "    qc.ccx(q0, q1, q2)\n",
    "    if p0 < p1:\n",
    "        qc.x(q2)\n"
   ]
  },
  {
   "cell_type": "code",
   "execution_count": 4,
   "id": "fb4e33f2",
   "metadata": {},
   "outputs": [],
   "source": [
    "def qcA(qc, q0, q1, q2):\n",
    "    # q0: input of U\n",
    "    # q1: input of cloned U\n",
    "    # q2: output of sigma (q2 must be initialized to |0>)\n",
    "    qc.h(q2)\n",
    "    qc.cswap(q2, q0, q1)\n",
    "\n",
    "\n",
    "def qcB(qc, q0, q1, q2, q3, q4, c0, c1):\n",
    "    # q0: output of U\n",
    "    # q1: output of sigma\n",
    "    # q2: output of cloned U (q2 must be initialized to |0>)\n",
    "    # q3: qubit (ancilla)\n",
    "    # q4: qubit (ancilla)\n",
    "    # c0: classical bit (ancilla)\n",
    "    # c1: classical bit (ancilla)\n",
    "\n",
    "    qc.h(q2)\n",
    "    qc.measure(q2, c0)\n",
    "    qc.cswap(q1, q0, q2)\n",
    "\n",
    "    qc.cx(q0, q2)\n",
    "    qc.cx(q2, q0)\n",
    "    control_UGate = UGate(-pi/2, 0, 0).control(1)\n",
    "    qc.append(control_UGate, [q2, q0])\n",
    "    attenuate_2q(qc, q0, q2, q3, q4, c1, 1/3.0, 1/1.0)\n",
    "    control_UGate = UGate(0, 0, pi).control(1)\n",
    "    qc.append(control_UGate, [q2, q0])\n",
    "    control_UGate = UGate(pi/2, 0, pi).control(1)\n",
    "    qc.append(control_UGate, [q2, q0])\n",
    "    qc.cx(q2, q0)\n",
    "    qc.cx(q0, q2)\n",
    "\n",
    "\n",
    "def setup_state(qsetup, qc, q0, q1):\n",
    "    if type(qsetup) == tuple:\n",
    "        q0_setup = qsetup[0]\n",
    "        qc.u(q0_setup[0], q0_setup[1], q0_setup[2], q0)\n",
    "        q1_setup = qsetup[1]\n",
    "        qc.u(q1_setup[0], q1_setup[1], q1_setup[2], q1)\n",
    "    else:\n",
    "        if qsetup == \"|00>\":\n",
    "            pass\n",
    "        elif qsetup == \"|01>\":\n",
    "            qc.x(q0)\n",
    "        elif qsetup == \"|10>\":\n",
    "            qc.x(q1)\n",
    "        elif qsetup == \"|11>\":\n",
    "            qc.x(q0)\n",
    "            qc.x(q1)\n",
    "        else:\n",
    "            raise Exception(\"Invalid qsetup {}\".format(qsetup))\n",
    "\n",
    "\n",
    "def setup_U(Usetup, qc, q0):\n",
    "    if type(Usetup) == tuple:\n",
    "        q0_setup = Usetup\n",
    "        qc.u(q0_setup[0], q0_setup[1], q0_setup[2], q0)\n",
    "    else:\n",
    "        qc.x(q0)\n",
    "\n",
    "\n",
    "def calc_qc_fidelity(qc_setup, sampleN):\n",
    "    # calculate the fidelity of cloning\n",
    "    def calc_density(sim_setup):\n",
    "        sv_simulator = sim_setup[0]\n",
    "        circuit = sim_setup[1]\n",
    "        trace_reduced = sim_setup[2]\n",
    "        trace_measure = sim_setup[3]\n",
    "        statevector_sim = np.asarray(\n",
    "            sv_simulator.run(circuit).result().data()['statevector'])\n",
    "        if len(trace_measure) > 0:\n",
    "            statedensity_measure = np.array(partial_trace(\n",
    "                statevector_sim, trace_measure)).real\n",
    "            # if 0.999 > statedensity_q5[0][0] or statedensity_q5[0][0] > 1.001:\n",
    "            #    # if c1 (measurement result of q5) is 1, then skip\n",
    "            #    return False, None\n",
    "        return True, np.array(\n",
    "            partial_trace(statevector_sim, trace_reduced))\n",
    "\n",
    "    def calc_density_list(sim_setup, sampleN):\n",
    "        count = 0.0\n",
    "        count_success = 0.0\n",
    "        density_list = []\n",
    "        statedensity = None\n",
    "        while True:\n",
    "            if count >= sampleN:\n",
    "                break\n",
    "            if len(sim_setup[3]) > 0 or statedensity is None:\n",
    "                flag, statedensity = calc_density(sim_setup)\n",
    "            count += 1.0\n",
    "            if not flag:\n",
    "                continue\n",
    "            count_success += 1.0\n",
    "            density_list.append(statedensity)\n",
    "        return density_list, count_success/count\n",
    "\n",
    "    # make sim_setup_list\n",
    "    sim_setup_list = []\n",
    "    for qc, qc_qbits, qc_cbits in qc_setup:\n",
    "        trace_reduced = list(set(list(range(qc.num_qubits))) - set(qc_qbits))\n",
    "        trace_measure = list(set(list(range(qc.num_qubits))) - set(qc_cbits))\n",
    "        sv_simulator = Aer.get_backend('statevector_simulator')\n",
    "        sim_setup_list.append(\n",
    "            (sv_simulator,\n",
    "             transpile(qc, backend=sv_simulator),\n",
    "             trace_reduced,\n",
    "             trace_measure)\n",
    "        )\n",
    "\n",
    "    # calculate the average of fidelity\n",
    "    density_list0, success_rate0 = calc_density_list(\n",
    "        sim_setup_list[0], sampleN)\n",
    "    density_list1, success_rate1 = calc_density_list(\n",
    "        sim_setup_list[1], sampleN)\n",
    "    avg_fidelity = 0.0\n",
    "    for density0, density1 in zip(density_list0, density_list1):\n",
    "        avg_fidelity += fidelity(density0, density1) / sampleN\n",
    "\n",
    "    return avg_fidelity, success_rate0, success_rate1\n",
    "\n",
    "\n",
    "def calc_qc_fidelity_list(qsetup_Usetup_list, qc_build_setup, sampleN):\n",
    "    fidelity_list = []\n",
    "    for qsetup, Usetup in qsetup_Usetup_list:\n",
    "        qc_setup = (\n",
    "            (qc_build_setup[0][0](qsetup, Usetup), *qc_build_setup[0][1:3]),\n",
    "            (qc_build_setup[1][0](qsetup, Usetup), *qc_build_setup[1][1:3]),\n",
    "        )\n",
    "        avg_fidelity, success_rate0, success_rate1 = calc_qc_fidelity(\n",
    "            qc_setup, sampleN)\n",
    "        fidelity_list.append(\n",
    "            (qsetup, Usetup, avg_fidelity, success_rate0, success_rate1))\n",
    "    return fidelity_list\n",
    "\n",
    "\n",
    "def calc_global_fidelity(qc_build_setup):\n",
    "    sampleN = 100\n",
    "    num0 = 3  # 5\n",
    "    num1 = 4  # 8\n",
    "    U_theta_list = np.linspace(0, pi, num0, endpoint=True)\n",
    "    U_phi_list = np.linspace(-pi, pi, num1, endpoint=False)\n",
    "    U_lambda_list = np.linspace(-pi, pi, num1, endpoint=False)\n",
    "    q1_theta_list = np.linspace(0, pi, num0, endpoint=True)\n",
    "    q1_phi_list = np.linspace(-pi, pi, num1, endpoint=False)\n",
    "\n",
    "    # make qsetup_Usetup_list\n",
    "    q0_setup = (0, 0, 0)\n",
    "    qsetup_Usetup_list = []\n",
    "    for U_theta, U_phi, U_lambda, q1_theta, q1_phi in itertools.product(U_theta_list, U_phi_list, U_lambda_list, q1_theta_list, q1_phi_list):\n",
    "        if q1_theta == 0 and q1_phi != -pi:\n",
    "            continue\n",
    "        if q1_theta == pi and q1_phi != -pi:\n",
    "            continue\n",
    "        q1_setup = (q1_theta, q1_phi, 0)\n",
    "        Usetup = (U_theta, U_phi, U_lambda)\n",
    "        qsetup_Usetup_list.append(((q0_setup, q1_setup), Usetup))\n",
    "\n",
    "    # calculate the fidelity\n",
    "    fidelity_result_list = calc_qc_fidelity_list(\n",
    "        qsetup_Usetup_list, qc_build_setup, sampleN)\n",
    "\n",
    "    # arrange the result into a list.\n",
    "    sum_success_rate = 0.0\n",
    "    fidelity_list = np.empty([0])\n",
    "    for fidelity_result in fidelity_result_list:\n",
    "        fidelity_list = np.append(fidelity_list, [fidelity_result[2].real])\n",
    "        sum_success_rate += fidelity_result[4]\n",
    "\n",
    "    # print(\"avg_success_rate = {}\".format(sum_success_rate / len(fidelity_result_list)))\n",
    "    print(f'number of points = {len(fidelity_result_list)}')\n",
    "    return fidelity_list, fidelity_result_list\n",
    "\n",
    "\n",
    "def plot_fidelity(qc_build_setup, q0_in_setup, q1_in_setup, Usetup_in):\n",
    "    # q0 is set to cos(theta0/2)|0> + exp(i*phi0)*sin(theta0/2)|1>\n",
    "    # q1 is set to cos(theta1/2)|0> + exp(i*phi1)*sin(theta1/2)|1>\n",
    "    # U is set to UGate(theta3, phi3, lambda3)\n",
    "    sampleN = 100\n",
    "    theta3_list = np.linspace(-pi, pi, 10)\n",
    "    sum_success_rate = 0\n",
    "\n",
    "    # make qsetup_Usetup_list\n",
    "    qsetup_Usetup_list = []\n",
    "    for theta3 in theta3_list:\n",
    "        q0_setup = q0_in_setup\n",
    "        q1_setup = q1_in_setup\n",
    "        Usetup = (theta3, Usetup_in[1], Usetup_in[2])\n",
    "        qsetup_Usetup_list.append(((q0_setup, q1_setup), Usetup))\n",
    "\n",
    "    # calculate the fidelity\n",
    "    fidelity_list = calc_qc_fidelity_list(\n",
    "        qsetup_Usetup_list, qc_build_setup, sampleN)\n",
    "\n",
    "    # plot the fidelity\n",
    "    sum_success_rate = 0.0\n",
    "    y_list = np.empty([0, 2])\n",
    "    for fidelity_info in fidelity_list:\n",
    "        y_list = np.append(y_list, [fidelity_info[2].real])\n",
    "        sum_success_rate += fidelity_info[4]\n",
    "    plt.plot(theta3_list, y_list)\n",
    "    plt.title(\"Fidelity\\n(initial state q0 = ({:.2f}, {:.2f}, {:.2f}),\\n q1 = ({:.2f}, {:.2f}, {:.2f})\".format(\n",
    "        *q0_rand_setup, *q1_rand_setup))\n",
    "    plt.ylim([0, 1])\n",
    "    plt.ylabel(\"Fidelity\")\n",
    "    plt.xlabel(\n",
    "        f'theta of unitary gate UGate(theta, {Usetup[1]:.2f}, {Usetup[2]:.2f})')\n",
    "\n",
    "\n",
    "# quantum circuit\n",
    "def example_no_clone(qsetup, Usetup):\n",
    "    # q0: input and output of U\n",
    "    # q1: input and output of U\n",
    "    qc = QuantumCircuit(2)\n",
    "    setup_state(qsetup, qc, 0, 1)\n",
    "    setup_U(Usetup, qc, 0)\n",
    "    setup_U(Usetup, qc, 1)\n",
    "    return qc\n",
    "\n",
    "\n",
    "def example_clone(qsetup, Usetup):\n",
    "    # q0: input and output of U\n",
    "    # q1: input and output of cloned U\n",
    "    # q2: output of sigma\n",
    "    # q3: output of cloned U\n",
    "    # q4: qubit (ancilla)\n",
    "    # q5: qubit (ancilla)\n",
    "    # c0: classical bit (ancilla)\n",
    "    # c1: classical bit (ancilla)\n",
    "    qc = QuantumCircuit(6, 2)\n",
    "\n",
    "    setup_state(qsetup, qc, 0, 1)\n",
    "    qc.barrier()\n",
    "    qcA(qc, 0, 1, 2)\n",
    "    qc.barrier()\n",
    "    setup_U(Usetup, qc, 0)  # apply unitary gate U only to q0\n",
    "    qc.barrier()\n",
    "    qcB(qc, 0, 2, 3, 4, 5, 0, 1)\n",
    "\n",
    "    return qc\n",
    "\n",
    "\n",
    "def example_clone_dummy(qsetup, Usetup):\n",
    "    # q0: input and output of U\n",
    "    # q1: input and output of cloned U (dummy)\n",
    "    qc = QuantumCircuit(2)\n",
    "    setup_state(qsetup, qc, 0, 1)\n",
    "    setup_U(Usetup, qc, 0)\n",
    "\n",
    "    return qc\n",
    "\n",
    "\n",
    "def example_clone_swap(qsetup, Usetup):\n",
    "    # q0: input and output of U\n",
    "    # q1: input and output of cloned U (dummy)\n",
    "    qc = QuantumCircuit(3)\n",
    "    setup_state(qsetup, qc, 0, 1)\n",
    "    qc.h(2)\n",
    "    qc.cswap(2, 0, 1)\n",
    "    setup_U(Usetup, qc, 0)\n",
    "    qc.cswap(2, 0, 1)\n",
    "    qc.h(2)\n",
    "\n",
    "    return qc\n"
   ]
  },
  {
   "cell_type": "code",
   "execution_count": 5,
   "id": "f75e279b-1713-4101-8456-a424c6696ff2",
   "metadata": {},
   "outputs": [
    {
     "data": {
      "image/png": "[encoded data removed]",
      "text/plain": [
       "<Figure size 1531.4x445.48 with 1 Axes>"
      ]
     },
     "execution_count": 5,
     "metadata": {},
     "output_type": "execute_result"
    }
   ],
   "source": [
    "# optimal cloning\n",
    "qc = example_clone(((pi, 0, -pi), (0, 0, -pi)), (pi, 0, -pi))\n",
    "qc.draw(output=\"mpl\")\n"
   ]
  },
  {
   "cell_type": "code",
   "execution_count": 6,
   "id": "5bdf8b6b-90b5-4b59-8575-8e20a0e49b27",
   "metadata": {},
   "outputs": [
    {
     "data": {
      "image/png": "[encoded data removed]",
      "text/plain": [
       "<Figure size 206.852x144.48 with 1 Axes>"
      ]
     },
     "execution_count": 6,
     "metadata": {},
     "output_type": "execute_result"
    }
   ],
   "source": [
    "# dummy1\n",
    "qc = example_clone_dummy(((pi, 0, -pi), (0, 0, -pi)), (pi, 0, -pi))\n",
    "qc.draw(output=\"mpl\")\n"
   ]
  },
  {
   "cell_type": "code",
   "execution_count": 7,
   "id": "c0690b96-01cb-4a53-b86e-7ba215595cfe",
   "metadata": {},
   "outputs": [
    {
     "data": {
      "image/png": "[encoded data removed]",
      "text/plain": [
       "<Figure size 387.597x204.68 with 1 Axes>"
      ]
     },
     "execution_count": 7,
     "metadata": {},
     "output_type": "execute_result"
    }
   ],
   "source": [
    "# dummy2\n",
    "qc = example_clone_swap(((pi, 0, -pi), (0, 0, -pi)), (pi, 0, -pi))\n",
    "qc.draw(output=\"mpl\")\n"
   ]
  },
  {
   "cell_type": "code",
   "execution_count": 66,
   "id": "8718f08b-266b-441a-920e-51ca47cc2a6a",
   "metadata": {},
   "outputs": [],
   "source": [
    "q0_rand_setup = (float(pi*np.random.rand(1)),\n",
    "                 float(2*pi*np.random.rand(1)-pi), 0)\n",
    "q1_rand_setup = (float(pi*np.random.rand(1)),\n",
    "                 float(2*pi*np.random.rand(1)-pi), 0)\n",
    "Usetup_rand = (float(pi*np.random.rand(1)), float(2*pi *\n",
    "               np.random.rand(1)-pi), float(2*pi*np.random.rand(1)-pi))\n"
   ]
  },
  {
   "cell_type": "code",
   "execution_count": 69,
   "id": "0b54f967-9b3a-4133-8226-e10638456744",
   "metadata": {},
   "outputs": [
    {
     "data": {
      "image/png": "[encoded data removed]",
      "text/plain": [
       "<Figure size 432x288 with 1 Axes>"
      ]
     },
     "metadata": {
      "needs_background": "light"
     },
     "output_type": "display_data"
    }
   ],
   "source": [
    "# example of q0 (= cos(theta0/2)|0> + exp(i*phi0)*sin(theta0/2)|1>)\n",
    "# and q1 (= cos(theta1/2)|0> + exp(i*phi1)*sin(theta1/2)|1>) applied by one-to-two cloning of an unitary gate U.\n",
    "# U is UGate(theta1, 0, -pi). the fidelity > 0.\n",
    "# the result shows that one-to-two cloning makes an gate which approximates an unitary gate U x U from an unitary gate U.\n",
    "\n",
    "# optimal cloning\n",
    "plot_fidelity(\n",
    "    (\n",
    "        (example_no_clone, [0, 1], []),  # q0 (input of U), q1 (input of U)\n",
    "        # q0 (input of U), q3 (input of cloned U), q5 (measure)\n",
    "        (example_clone, [0, 3], [5]),\n",
    "    ),\n",
    "    q0_rand_setup,\n",
    "    q1_rand_setup,\n",
    "    Usetup_rand\n",
    ")\n"
   ]
  },
  {
   "cell_type": "code",
   "execution_count": 70,
   "id": "8ff00aa5-fda0-428c-9370-919a9a9c5e6f",
   "metadata": {},
   "outputs": [
    {
     "data": {
      "image/png": "[encoded data removed]",
      "text/plain": [
       "<Figure size 432x288 with 1 Axes>"
      ]
     },
     "metadata": {
      "needs_background": "light"
     },
     "output_type": "display_data"
    }
   ],
   "source": [
    "# dummy1\n",
    "plot_fidelity(\n",
    "    (\n",
    "        (example_no_clone, [0, 1], []),  # q0 (input of U), q1 (input of U)\n",
    "        # q0 (input of U), q1 (input of dummy)\n",
    "        (example_clone_dummy, [0, 1], []),\n",
    "    ),\n",
    "    q0_rand_setup,\n",
    "    q1_rand_setup,\n",
    "    Usetup_rand\n",
    ")\n"
   ]
  },
  {
   "cell_type": "code",
   "execution_count": 71,
   "id": "85a9911e-45c1-44c4-b567-09bad188cb4d",
   "metadata": {},
   "outputs": [
    {
     "data": {
      "image/png": "[encoded data removed]",
      "text/plain": [
       "<Figure size 432x288 with 1 Axes>"
      ]
     },
     "metadata": {
      "needs_background": "light"
     },
     "output_type": "display_data"
    }
   ],
   "source": [
    "# dummy2\n",
    "plot_fidelity(\n",
    "    (\n",
    "        (example_no_clone, [0, 1], []),  # q0 (input of U), q1 (input of U)\n",
    "        # q0 (input of U), q1 (input of dummy)\n",
    "        (example_clone_swap, [0, 1], []),\n",
    "    ),\n",
    "    q0_rand_setup,\n",
    "    q1_rand_setup,\n",
    "    Usetup_rand\n",
    ")\n"
   ]
  },
  {
   "cell_type": "code",
   "execution_count": 73,
   "id": "9856b364-4585-4ad9-b632-cbe63838b59c",
   "metadata": {},
   "outputs": [
    {
     "name": "stdout",
     "output_type": "stream",
     "text": [
      "number of points = 288\n",
      "fidelity = 0.4200000000000002\n"
     ]
    }
   ],
   "source": [
    "# optimal cloning\n",
    "# approximate value of the global fidelity > 0.\n",
    "fidelity_list0, fidelity_result_list0 = calc_global_fidelity(\n",
    "    (\n",
    "        (example_no_clone, [0, 1], []),  # q0 (input of U), q1 (input of U)\n",
    "        # q0 (input of U), q3 (input of cloned U), q5 (measure)\n",
    "        (example_clone, [0, 3], [5]),\n",
    "    )\n",
    ")\n",
    "print(f'fidelity = {np.min(fidelity_list0)}')\n"
   ]
  },
  {
   "cell_type": "code",
   "execution_count": 74,
   "id": "db3cc01c-de83-4f07-a7f0-b7a4c5699384",
   "metadata": {},
   "outputs": [
    {
     "name": "stdout",
     "output_type": "stream",
     "text": [
      "number of points = 288\n",
      "fidelity = 0.0\n"
     ]
    }
   ],
   "source": [
    "# dummy1\n",
    "# approximate value of the global fidelity = 0.\n",
    "fidelity_list1, fidelity_result_list1 = calc_global_fidelity(\n",
    "    (\n",
    "        (example_no_clone, [0, 1], []),  # q0 (input of U), q1 (input of U)\n",
    "        # q0 (input of U), q1 (input of dummy)\n",
    "        (example_clone_dummy, [0, 1], []),\n",
    "    )\n",
    ")\n",
    "print(f'fidelity = {np.min(fidelity_list1)}')\n"
   ]
  },
  {
   "cell_type": "code",
   "execution_count": 75,
   "id": "4bb5ffaa-2c28-4197-9333-a71842faae31",
   "metadata": {},
   "outputs": [
    {
     "name": "stdout",
     "output_type": "stream",
     "text": [
      "number of points = 288\n",
      "fidelity = 0.0\n"
     ]
    }
   ],
   "source": [
    "# dummy2\n",
    "# approximate value of the global fidelity = 0.\n",
    "fidelity_list2, fidelity_result_list2 = calc_global_fidelity(\n",
    "    (\n",
    "        (example_no_clone, [0, 1], []),  # q0 (input of U), q1 (input of U)\n",
    "        # q0 (input of U), q1 (input of dummy)\n",
    "        (example_clone_swap, [0, 1], []),\n",
    "    )\n",
    ")\n",
    "print(f'fidelity = {np.min(fidelity_list2)}')\n"
   ]
  },
  {
   "cell_type": "code",
   "execution_count": null,
   "id": "815650cb-c621-4adf-bbb5-67432888773d",
   "metadata": {},
   "outputs": [],
   "source": []
  }
 ],
 "metadata": {
  "kernelspec": {
   "display_name": "Python 3 (ipykernel)",
   "language": "python",
   "name": "python3"
  },
  "language_info": {
   "codemirror_mode": {
    "name": "ipython",
    "version": 3
   },
   "file_extension": ".py",
   "mimetype": "text/x-python",
   "name": "python",
   "nbconvert_exporter": "python",
   "pygments_lexer": "ipython3",
   "version": "3.10.4"
  }
 },
 "nbformat": 4,
 "nbformat_minor": 5
}
