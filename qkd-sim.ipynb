{
 "cells": [
  {
   "cell_type": "markdown",
   "id": "985cda1f-52b5-4532-9e27-189eba8f9e0e",
   "metadata": {},
   "source": [
    "# Simulation of Quantum Key Distribution and Eavesdropper"
   ]
  },
  {
   "cell_type": "markdown",
   "id": "240b4e06-ac2d-4749-8b43-f61292767455",
   "metadata": {},
   "source": [
    "This note confirms previous evaluation results by simulating quantum key distribution protocol.\n",
    "\n",
    "## Contents\n",
    "\n",
    "1. Without eavesdropper\n",
    "2. With eavesdropper using ordinary measurement method\n",
    "3. With eavesdropper using another measurement method (eavesdropper with angle)\n",
    "\n",
    "To evaluate the performance, P(Alice == Bob) and P(Bob == Eve) are calculated.\n",
    "\n",
    "- P(Alice == Bob) is the probability that Alice's bit is equal to Bob's basis.\n",
    "- P(Bob == Eve) is the probability that Alice's bit is equal to Eve's basis.\n",
    "\n",
    "For details, see qkd.ipynb.\n",
    "\n",
    "This note uses some codes from a qiskit tutorial, \"quantum-key-distribution.ipynb\"."
   ]
  },
  {
   "cell_type": "code",
   "execution_count": 1,
   "id": "d00c6fd6-bb76-4c90-a0eb-336aaf4f91d8",
   "metadata": {},
   "outputs": [
    {
     "name": "stdout",
     "output_type": "stream",
     "text": [
      "Imports Successful\n"
     ]
    }
   ],
   "source": [
    "# import\n",
    "import numpy as np\n",
    "import itertools\n",
    "from math import pi\n",
    "from numpy.random import randint\n",
    "import matplotlib.pyplot as plt\n",
    "\n",
    "#%matplotlib inline\n",
    "\n",
    "from qiskit import (\n",
    "    QuantumCircuit,\n",
    "    ClassicalRegister,\n",
    "    QuantumRegister,\n",
    "    execute,\n",
    "    BasicAer,\n",
    "    Aer,\n",
    "    transpile,\n",
    "    assemble,\n",
    ")\n",
    "from qiskit.visualization import plot_histogram, plot_bloch_multivector\n",
    "\n",
    "print(\"Imports Successful\")\n"
   ]
  },
  {
   "cell_type": "markdown",
   "id": "37aaf700-3b25-4aad-90be-2d718ea1aaa4",
   "metadata": {},
   "source": [
    "## 1. Without eavesdropper"
   ]
  },
  {
   "cell_type": "code",
   "execution_count": 2,
   "id": "55f0424e-93c0-467d-82d9-6cba17767d2d",
   "metadata": {
    "tags": []
   },
   "outputs": [],
   "source": [
    "def calc_theta(p):\n",
    "    return 2 * np.arccos(np.sqrt(p))\n",
    "\n",
    "\n",
    "def remove_garbage(a_bases, b_bases, bits):\n",
    "    good_bits = []\n",
    "    for q in range(n):\n",
    "        if a_bases[q] == b_bases[q]:\n",
    "            # If both used the same basis, add\n",
    "            # this to the list of 'good' bits\n",
    "            good_bits.append(bits[q])\n",
    "    return good_bits\n"
   ]
  },
  {
   "cell_type": "code",
   "execution_count": 3,
   "id": "2a1b5b89-6de3-4a18-8d86-e9e08e2a2a66",
   "metadata": {},
   "outputs": [],
   "source": [
    "def encode_message_without_intercept(bits, bases):\n",
    "    message = []\n",
    "    for i in range(n):\n",
    "        qc = QuantumCircuit(1, 1)\n",
    "        if bases[i] == 0:  # prepare qubit in Z-basis\n",
    "            if bits[i] == 0:\n",
    "                pass\n",
    "            else:\n",
    "                qc.x(0)\n",
    "        else:  # prepare qubit in X-basis\n",
    "            if bits[i] == 0:\n",
    "                qc.h(0)\n",
    "            else:\n",
    "                qc.x(0)\n",
    "                qc.h(0)\n",
    "        qc.barrier()\n",
    "        message.append(qc)\n",
    "    return message\n",
    "\n",
    "\n",
    "def measure_message_without_intercept(message, bases):\n",
    "    backend = Aer.get_backend(\"aer_simulator\")\n",
    "    measurements = []\n",
    "    for q in range(n):\n",
    "        if bases[q] == 0:  # measuring in Z-basis\n",
    "            message[q].measure(0, 0)\n",
    "        else:  # measuring in X-basis\n",
    "            message[q].h(0)\n",
    "            message[q].measure(0, 0)\n",
    "        aer_sim = Aer.get_backend(\"aer_simulator\")\n",
    "        qobj = assemble(message[q], shots=1, memory=True)\n",
    "        result = aer_sim.run(qobj).result()\n",
    "        measured_bit = int(result.get_memory()[0])\n",
    "        measurements.append(measured_bit)\n",
    "    return measurements\n"
   ]
  },
  {
   "cell_type": "code",
   "execution_count": 4,
   "id": "0c44ed9a-8fae-4b89-90b7-db7e8e62f659",
   "metadata": {},
   "outputs": [],
   "source": [
    "# without interception\n",
    "\n",
    "n = 4000\n",
    "## Step 1\n",
    "# Alice generates bits\n",
    "alice_bits = randint(2, size=n)\n",
    "# print(f'alice_bits={alice_bits}')\n",
    "\n",
    "## Step 2\n",
    "# Create an array to tell us which qubits\n",
    "# are encoded in which bases\n",
    "alice_bases = randint(2, size=n)\n",
    "# print(f'alice_bases={alice_bases}')\n",
    "message = encode_message_without_intercept(alice_bits, alice_bases)\n",
    "\n",
    "## Step 3\n",
    "# Decide which basis to measure in:\n",
    "bob_bases = randint(2, size=n)\n",
    "# print(f'bob_bases={bob_bases}')\n",
    "bob_results = measure_message_without_intercept(message, bob_bases)\n",
    "# print(f'bob_results={bob_results}')\n",
    "\n",
    "## Step 4\n",
    "alice_key = remove_garbage(alice_bases, bob_bases, alice_bits)\n",
    "# print(f'alice_key={alice_key}')\n",
    "bob_key = remove_garbage(alice_bases, bob_bases, bob_results)\n",
    "# print(f'bob_key={bob_key}')\n"
   ]
  },
  {
   "cell_type": "markdown",
   "id": "4f00b79a-b5c4-477c-b17a-95b2fb3d4661",
   "metadata": {},
   "source": [
    "Simulation result shows that P(Alice == Bob) = 1 as expected."
   ]
  },
  {
   "cell_type": "code",
   "execution_count": 5,
   "id": "16052976-04d4-4651-b6d9-c7709b2a8761",
   "metadata": {},
   "outputs": [
    {
     "name": "stdout",
     "output_type": "stream",
     "text": [
      "prob(alice==bob)=1.00, len(alice_key)=2002\n"
     ]
    }
   ],
   "source": [
    "bob_key = np.array(bob_key)\n",
    "alice_key = np.array(alice_key)\n",
    "\n",
    "print(\n",
    "    f\"prob(alice==bob)={np.sum(bob_key == alice_key)/len(alice_key):0.2f}, len(alice_key)={len(alice_key)}\"\n",
    ")\n"
   ]
  },
  {
   "cell_type": "markdown",
   "id": "7da9e98f-c9ae-4c1b-8aa9-e72325c56673",
   "metadata": {},
   "source": [
    "## 2. With eavesdropper using ordinary measurement method"
   ]
  },
  {
   "cell_type": "code",
   "execution_count": 6,
   "id": "66f6b066-4ef0-4651-8fc7-8d1bed0abe8e",
   "metadata": {
    "tags": []
   },
   "outputs": [],
   "source": [
    "def encode_message_with_intercept(bits, alice_bases, eve_bases, bob_bases):\n",
    "    message = []\n",
    "    for i in range(n):\n",
    "        qc = QuantumCircuit(1, 2)\n",
    "        if alice_bases[i] == 0:  # prepare qubit in Z-basis\n",
    "            if bits[i] == 0:\n",
    "                pass\n",
    "            else:\n",
    "                qc.x(0)\n",
    "        else:  # prepare qubit in X-basis\n",
    "            if bits[i] == 0:\n",
    "                qc.h(0)\n",
    "            else:\n",
    "                qc.x(0)\n",
    "                qc.h(0)\n",
    "\n",
    "        if eve_bases[i] == 0:  # measuring in Z-basis\n",
    "            qc.measure(0, 0)\n",
    "        else:  # measuring in X-basis\n",
    "            qc.h(0)\n",
    "            qc.measure(0, 0)\n",
    "            qc.h(0)\n",
    "\n",
    "        if bob_bases[i] == 0:  # measuring in Z-basis\n",
    "            qc.measure(0, 1)\n",
    "        else:  # measuring in X-basis\n",
    "            qc.h(0)\n",
    "            qc.measure(0, 1)\n",
    "\n",
    "        message.append(qc)\n",
    "    return message\n",
    "\n",
    "\n",
    "def measure_message_with_intercept(message):\n",
    "    backend = Aer.get_backend(\"aer_simulator\")\n",
    "    measurements_eve = []\n",
    "    measurements_bob = []\n",
    "    for q in range(n):\n",
    "        aer_sim = Aer.get_backend(\"aer_simulator\")\n",
    "        qobj = assemble(message[q], shots=1, memory=True)\n",
    "        result = aer_sim.run(qobj).result()\n",
    "        measured_bit = result.get_memory()[0]\n",
    "        measurements_eve.append(int(measured_bit[1]))\n",
    "        measurements_bob.append(int(measured_bit[0]))\n",
    "    return measurements_eve, measurements_bob\n"
   ]
  },
  {
   "cell_type": "code",
   "execution_count": 7,
   "id": "0ae709d5-c880-42b8-b25c-dcd5b13677c3",
   "metadata": {},
   "outputs": [],
   "source": [
    "# with interception\n",
    "\n",
    "n = 4000\n",
    "# Step 1\n",
    "alice_bits = randint(2, size=n)\n",
    "alice_bases = randint(2, size=n)\n",
    "eve_bases = randint(2, size=n)\n",
    "bob_bases = randint(2, size=n)\n",
    "\n",
    "# Step 2\n",
    "message = encode_message_with_intercept(alice_bits, alice_bases, eve_bases, bob_bases)\n",
    "\n",
    "# Step 3\n",
    "eve_results, bob_results = measure_message_with_intercept(message)\n",
    "\n",
    "# Step 4\n",
    "bob_key = remove_garbage(alice_bases, bob_bases, bob_results)\n",
    "eve_key = remove_garbage(alice_bases, bob_bases, eve_results)\n",
    "alice_key = remove_garbage(alice_bases, bob_bases, alice_bits)\n"
   ]
  },
  {
   "cell_type": "markdown",
   "id": "a511f172-cd00-4d68-9e0b-b7a594315426",
   "metadata": {},
   "source": [
    "Simulation results show that P(Alice == Bob) $\\sim$ 0.75 and P(Bob == Eve) $\\sim$ 0.75 as expected."
   ]
  },
  {
   "cell_type": "code",
   "execution_count": 8,
   "id": "74974fde-e61c-4c13-9bbf-4d0ef07d4556",
   "metadata": {},
   "outputs": [
    {
     "name": "stdout",
     "output_type": "stream",
     "text": [
      "prob(alice==bob)=0.75, len(alice_key)=1974\n",
      "prob(bob==eve)=0.74, len(bob_key)=1974\n"
     ]
    }
   ],
   "source": [
    "bob_key = np.array(bob_key)\n",
    "eve_key = np.array(eve_key)\n",
    "alice_key = np.array(alice_key)\n",
    "\n",
    "print(\n",
    "    f\"prob(alice==bob)={np.sum(bob_key == alice_key)/len(alice_key):0.2f}, len(alice_key)={len(alice_key)}\"\n",
    ")\n",
    "print(\n",
    "    f\"prob(bob==eve)={np.sum(eve_key == bob_key)/len(bob_key):0.2f}, len(bob_key)={len(bob_key)}\"\n",
    ")\n"
   ]
  },
  {
   "cell_type": "markdown",
   "id": "d930958f-0c54-425b-8197-e983cd55773f",
   "metadata": {},
   "source": [
    "## 3. With eavesdropper using another measurement method (eavesdropper with angle)"
   ]
  },
  {
   "cell_type": "code",
   "execution_count": 9,
   "id": "72113403-1ed1-471d-807f-f4bd2d16bf8c",
   "metadata": {},
   "outputs": [],
   "source": [
    "def encode_message_with_mod_intercept(p, angle, bits, alice_bases, bob_bases):\n",
    "    message = []\n",
    "    theta = calc_theta(p)\n",
    "    for i in range(n):\n",
    "        qc = QuantumCircuit(3, 2)\n",
    "        qc.u(theta, 0, 0, 0)\n",
    "\n",
    "        # Alice\n",
    "        if alice_bases[i] == 0:  # prepare qubit in Z-basis\n",
    "            if bits[i] == 0:\n",
    "                pass\n",
    "            else:\n",
    "                qc.x(1)\n",
    "        else:  # prepare qubit in X-basis\n",
    "            if bits[i] == 0:\n",
    "                qc.h(1)\n",
    "            else:\n",
    "                qc.x(1)\n",
    "                qc.h(1)\n",
    "\n",
    "        # Eve\n",
    "        qc.cswap(0, 1, 2)\n",
    "        qc.u(angle, 0, pi, 1)\n",
    "        qc.measure(1, 0)\n",
    "        qc.u(angle, 0, pi, 1)\n",
    "        qc.cswap(0, 1, 2)\n",
    "\n",
    "        # Bob\n",
    "        if bob_bases[i] == 0:  # measuring in Z-basis\n",
    "            qc.measure(1, 1)\n",
    "        else:  # measuring in X-basis\n",
    "            qc.h(1)\n",
    "            qc.measure(1, 1)\n",
    "\n",
    "        message.append(qc)\n",
    "    return message\n",
    "\n",
    "\n",
    "def measure_message_with_mod_intercept(message):\n",
    "    backend = Aer.get_backend(\"aer_simulator\")\n",
    "    measurements_eve = []\n",
    "    measurements_bob = []\n",
    "    for q in range(n):\n",
    "        aer_sim = Aer.get_backend(\"aer_simulator\")\n",
    "        qobj = assemble(message[q], shots=1, memory=True)\n",
    "        result = aer_sim.run(qobj).result()\n",
    "        measured_bit = result.get_memory()[0]\n",
    "        measurements_eve.append(int(measured_bit[1]))\n",
    "        measurements_bob.append(int(measured_bit[0]))\n",
    "    return measurements_eve, measurements_bob\n"
   ]
  },
  {
   "cell_type": "code",
   "execution_count": 10,
   "id": "199e1c16-bae0-4d47-b04a-2ddf68109a9c",
   "metadata": {},
   "outputs": [],
   "source": [
    "# with modified interception\n",
    "\n",
    "n = 4000\n",
    "# Step 1\n",
    "alice_bits = randint(2, size=n)\n",
    "alice_bases = randint(2, size=n)\n",
    "bob_bases = randint(2, size=n)\n",
    "\n",
    "# Step 2: swap p = 0.2, theta = pi/4\n",
    "message = encode_message_with_mod_intercept(\n",
    "    1 - 0.2, pi / 4, alice_bits, alice_bases, bob_bases\n",
    ")\n",
    "\n",
    "# Step 3\n",
    "eve_results, bob_results = measure_message_with_mod_intercept(message)\n",
    "\n",
    "# Step 4\n",
    "bob_key = remove_garbage(alice_bases, bob_bases, bob_results)\n",
    "eve_key = remove_garbage(alice_bases, bob_bases, eve_results)\n",
    "alice_key = remove_garbage(alice_bases, bob_bases, alice_bits)\n"
   ]
  },
  {
   "cell_type": "markdown",
   "id": "1d83687e-4b3f-490a-82dc-162a28c95b73",
   "metadata": {},
   "source": [
    "Simulation results agree with the evaluation results that P(Alice==Bob) $\\sim$ 0.8 and P(Eve==Bob) $\\sim$ 0.78 when theta is pi/4 and swap p is 0.2."
   ]
  },
  {
   "cell_type": "code",
   "execution_count": 11,
   "id": "9bd4cac6-dec5-4e64-b65c-485b3dfc4a43",
   "metadata": {},
   "outputs": [
    {
     "name": "stdout",
     "output_type": "stream",
     "text": [
      "prob(alice==bob)=0.80, len(alice_key)=2007\n",
      "prob(bob==eve)=0.79, len(bob_key)=2007\n"
     ]
    }
   ],
   "source": [
    "bob_key = np.array(bob_key)\n",
    "eve_key = np.array(eve_key)\n",
    "alice_key = np.array(alice_key)\n",
    "\n",
    "print(\n",
    "    f\"prob(alice==bob)={np.sum(bob_key == alice_key)/len(alice_key):0.2f}, len(alice_key)={len(alice_key)}\"\n",
    ")\n",
    "print(\n",
    "    f\"prob(bob==eve)={np.sum(eve_key == bob_key)/len(bob_key):0.2f}, len(bob_key)={len(bob_key)}\"\n",
    ")\n"
   ]
  },
  {
   "cell_type": "code",
   "execution_count": null,
   "id": "9d1eb810-2856-4f0b-9d98-800b57a6b908",
   "metadata": {},
   "outputs": [],
   "source": []
  }
 ],
 "metadata": {
  "kernelspec": {
   "display_name": "Python 3 (ipykernel)",
   "language": "python",
   "name": "python3"
  },
  "language_info": {
   "codemirror_mode": {
    "name": "ipython",
    "version": 3
   },
   "file_extension": ".py",
   "mimetype": "text/x-python",
   "name": "python",
   "nbconvert_exporter": "python",
   "pygments_lexer": "ipython3",
   "version": "3.10.4"
  }
 },
 "nbformat": 4,
 "nbformat_minor": 5
}
