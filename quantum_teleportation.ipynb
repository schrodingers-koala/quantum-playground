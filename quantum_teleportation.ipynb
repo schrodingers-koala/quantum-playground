{
 "cells": [
  {
   "cell_type": "markdown",
   "id": "c3fd30a4-4fb8-420d-b42a-e35a56290f66",
   "metadata": {},
   "source": [
    "# Quantum Teleportation"
   ]
  },
  {
   "cell_type": "markdown",
   "id": "55a1a189-07a0-47c3-a1ae-2d520ec73049",
   "metadata": {},
   "source": [
    "Quantum teleportation is a technique for sending quantum states without a quantum communication channel between the sender and the recipient.\n",
    "Quantum teleportation uses an ERP pair and classical communications.\n",
    "\n",
    "### Outline of Quantum Teleportation\n",
    "- The sender interacts the qubit with the half of the ERP pair.\n",
    "- The sender measures the two qubits and obtains one of four possible classical results. (00, 01, 10 and 11)\n",
    "- The sender sends the message of the measurement result to the recipient.\n",
    "- The recipient performs one of four operation on the other half of the ERP pair, depending on the message.\n",
    "- As a result of the operation, the recipient gets the original state of the qubit which the sender had."
   ]
  },
  {
   "cell_type": "code",
   "execution_count": 1,
   "id": "e1a58fd4-d9d8-4929-bfb2-3603d433e416",
   "metadata": {},
   "outputs": [
    {
     "name": "stdout",
     "output_type": "stream",
     "text": [
      "Imports Successful\n"
     ]
    }
   ],
   "source": [
    "# import\n",
    "import numpy as np\n",
    "import itertools\n",
    "from math import pi\n",
    "import matplotlib.pyplot as plt\n",
    "\n",
    "#%matplotlib inline\n",
    "\n",
    "from qiskit import (\n",
    "    QuantumCircuit,\n",
    "    ClassicalRegister,\n",
    "    QuantumRegister,\n",
    "    execute,\n",
    "    BasicAer,\n",
    "    Aer,\n",
    "    transpile,\n",
    "    assemble,\n",
    ")\n",
    "from qiskit.visualization import plot_histogram, plot_bloch_multivector\n",
    "from qiskit.quantum_info.operators import Operator\n",
    "from qiskit.quantum_info import Statevector, partial_trace\n",
    "\n",
    "print(\"Imports Successful\")\n"
   ]
  },
  {
   "cell_type": "code",
   "execution_count": 2,
   "id": "f3d84241-f76b-406a-b228-60fd9cb302d3",
   "metadata": {},
   "outputs": [],
   "source": [
    "def calc_theta(p):\n",
    "    return 2 * np.arccos(np.sqrt(p))\n",
    "\n",
    "\n",
    "def fill_result(result):\n",
    "    bit_len = len(list(result.keys())[0])\n",
    "    bit = [\"0\", \"1\"]\n",
    "    key_list = [\"\".join(bits) for bits in itertools.product(bit, repeat=bit_len)]\n",
    "\n",
    "    total = sum(result.values())\n",
    "    result_new = {}\n",
    "    for k in key_list:\n",
    "        v = result.get(k)\n",
    "        result_new[k] = 0 if v is None else v / total\n",
    "    return result_new\n",
    "\n",
    "\n",
    "def count_result(result, filter_str):\n",
    "    bit_list = []\n",
    "    for bit_str in filter_str:\n",
    "        if bit_str == \"0\" or bit_str == \"1\":\n",
    "            bit_list.append([bit_str])\n",
    "        else:\n",
    "            bit_list.append([\"0\", \"1\"])\n",
    "    key_list = [\"\".join(bits) for bits in itertools.product(*bit_list)]\n",
    "\n",
    "    total = 0\n",
    "    for k in key_list:\n",
    "        total += result[k]\n",
    "\n",
    "    return total\n"
   ]
  },
  {
   "cell_type": "code",
   "execution_count": 3,
   "id": "fd3a99c2-2e67-4c87-b9d9-4c6b077527a7",
   "metadata": {},
   "outputs": [],
   "source": [
    "# Calculate probability where post-measurement state corresponds to bits.\n",
    "def calcP(statevec, bits, with_statevec=False):\n",
    "    proj = None\n",
    "    for bit in bits:\n",
    "        if bit==0:\n",
    "            qb = Statevector([1, 0]).to_operator()\n",
    "        elif bit==1:\n",
    "            qb = Statevector([0, 1]).to_operator()\n",
    "        else:\n",
    "            qb = Operator([[1, 0], [0, 1]])\n",
    "        proj = qb if proj is None else proj.tensor(qb)\n",
    "    measure = statevec.evolve(proj)\n",
    "    p = measure.inner(measure)\n",
    "    if with_statevec:\n",
    "        return p, measure\n",
    "    else:\n",
    "        return p\n",
    "\n",
    "# Calculate post-measurement state.\n",
    "def statevec_cond(statevec, bits):\n",
    "    qargs = [n for n, v in enumerate(reversed(bits)) if v is not None]\n",
    "    return partial_trace(statevec, qargs)\n",
    "\n",
    "# Calculate probability and post-measurement state.\n",
    "def statevec_mean_cond(statevector, bits):\n",
    "    p, measure = calcP(statevector, bits, with_statevec=True)\n",
    "    densitymatrix = statevec_cond(partial_trace(measure, []), bits)\n",
    "    return p, densitymatrix/p\n",
    "\n",
    "# Calculate probability and post-measurement state by sampling.\n",
    "def statevec_mean_cond_sample(res, bits):\n",
    "    nbit = len([v for v in bits if v is None])\n",
    "    densitymatrix = None\n",
    "    for bit in range(nbit):\n",
    "        qb = Operator([[0, 0], [0, 0]])\n",
    "        densitymatrix = qb if densitymatrix is None else densitymatrix.tensor(qb)\n",
    "    count = 0\n",
    "    for statevector in res:\n",
    "        p = abs(calcP(statevector, bits))\n",
    "        if p > 1 - 0.000000001:\n",
    "            densitymatrix += statevec_cond(statevector, bits)\n",
    "            count += 1\n",
    "    return count*1.0/len(res), densitymatrix/count if count > 0 else None"
   ]
  },
  {
   "cell_type": "code",
   "execution_count": 4,
   "id": "509b5970-6cd3-46dc-891d-22b1c3a1119c",
   "metadata": {},
   "outputs": [],
   "source": [
    "def teleport_qc(p_s, measure_flag=True):\n",
    "    qc = QuantumCircuit(3, 3)\n",
    "    theta_s = calc_theta(p_s)\n",
    "    u_phi = pi/2\n",
    "    u_lmd = u_phi # pi/2\n",
    "    qc.u(theta_s, u_phi, u_lmd, 0)\n",
    "\n",
    "    qc.barrier()\n",
    "    \n",
    "    qc.h(1)\n",
    "    qc.cx(1,2)\n",
    "    \n",
    "    qc.barrier()\n",
    "    \n",
    "    qc.cx(0,1)\n",
    "    qc.h(0)\n",
    "    \n",
    "    qc.barrier()\n",
    "    \n",
    "    qc.measure(0, 0)\n",
    "    qc.measure(1, 1)\n",
    "    \n",
    "    qc.barrier()\n",
    "    \n",
    "    qc.x(2).c_if(1, 1)\n",
    "    qc.z(2).c_if(0, 1)\n",
    "    \n",
    "    qc.barrier()\n",
    "    \n",
    "    qc.u(-theta_s, -u_phi, -u_lmd, 2)\n",
    "    if measure_flag:\n",
    "        qc.measure(2, 2)\n",
    "\n",
    "    return qc"
   ]
  },
  {
   "cell_type": "code",
   "execution_count": 5,
   "id": "bd58f1af-fcc0-4af3-b505-c4d75626881d",
   "metadata": {},
   "outputs": [
    {
     "data": {
      "image/png": "[encoded data removed]",
      "text/plain": [
       "<Figure size 1170.2x264.88 with 1 Axes>"
      ]
     },
     "execution_count": 5,
     "metadata": {},
     "output_type": "execute_result"
    }
   ],
   "source": [
    "# This example prepares the state of the sender by using an unitary operation.\n",
    "# The recipient performs an inverted operation of the unitary operation to the teleported state.\n",
    "# Therefore, the state of the recipient becomes |0> if the teleportation finishes successfully.\n",
    "qc = teleport_qc(0.25, measure_flag=True)\n",
    "qc.draw(output=\"mpl\")"
   ]
  },
  {
   "cell_type": "code",
   "execution_count": 6,
   "id": "7cd0f5e2-b997-4549-9ddb-2eaf04d2f42c",
   "metadata": {},
   "outputs": [
    {
     "data": {
      "image/png": "[encoded data removed]",
      "text/plain": [
       "<Figure size 504x360 with 1 Axes>"
      ]
     },
     "execution_count": 6,
     "metadata": {},
     "output_type": "execute_result"
    }
   ],
   "source": [
    "# The sender measures the two qubits and obtains one of four possible classical results. (00, 01, 10 and 11)\n",
    "# In any case of results, the recipient get the state |0> (= q2).\n",
    "# As a result, the teleportation successfully moves the state from the sender to the recipient.\n",
    "aer_sim = Aer.get_backend(\"aer_simulator\")\n",
    "job = aer_sim.run(assemble(qc), shots=4096)\n",
    "result = job.result().get_counts()\n",
    "plot_histogram(result)"
   ]
  },
  {
   "cell_type": "code",
   "execution_count": 7,
   "id": "bf011af3-ca40-4fd4-a7e9-344953405f72",
   "metadata": {},
   "outputs": [
    {
     "data": {
      "image/png": "[encoded data removed]",
      "text/plain": [
       "<Figure size 1110x264.88 with 1 Axes>"
      ]
     },
     "execution_count": 7,
     "metadata": {},
     "output_type": "execute_result"
    }
   ],
   "source": [
    "# Another simulation.\n",
    "# This example calculates the density matrix of the state.\n",
    "# To calculate the density matrix, the recipient skips the measurement of the state.\n",
    "qc = teleport_qc(0.25, measure_flag=False)\n",
    "qc.draw(output=\"mpl\")"
   ]
  },
  {
   "cell_type": "code",
   "execution_count": 8,
   "id": "ca974a12-ec8d-4642-adef-9657d50d0133",
   "metadata": {},
   "outputs": [],
   "source": [
    "sv_simulator = Aer.get_backend('statevector_simulator')\n",
    "circuit = transpile(qc, backend=sv_simulator)\n",
    "res = []\n",
    "for i in range(1024):\n",
    "    statevector = sv_simulator.run(circuit).result().data()['statevector']\n",
    "    res.append(statevector)"
   ]
  },
  {
   "cell_type": "code",
   "execution_count": 9,
   "id": "cf9962d1-8c64-4944-af4e-515098d27e65",
   "metadata": {},
   "outputs": [
    {
     "data": {
      "text/plain": [
       "(0.265625,\n",
       " Operator([[ 1.00000000e+00+0.00000000e+00j,\n",
       "            -5.30287619e-17-2.22044605e-16j],\n",
       "           [-5.30287619e-17+2.22044605e-16j,\n",
       "             5.21158562e-32+0.00000000e+00j]],\n",
       "          input_dims=(2,), output_dims=(2,)))"
      ]
     },
     "execution_count": 9,
     "metadata": {},
     "output_type": "execute_result"
    }
   ],
   "source": [
    "# In the case that q1 is |0> and q0 is |0>.\n",
    "# p ~ 0.25.\n",
    "# The recipient gets |0> (= q2).\n",
    "statevec_mean_cond_sample(res, [None, 0, 0])"
   ]
  },
  {
   "cell_type": "code",
   "execution_count": 10,
   "id": "398b753e-19ed-4b8b-aba8-449d4b47b95a",
   "metadata": {},
   "outputs": [
    {
     "data": {
      "text/plain": [
       "(0.2509765625,\n",
       " Operator([[ 1.00000000e+00+0.00000000e+00j,\n",
       "            -5.30287619e-17-5.55111512e-17j],\n",
       "           [-5.30287619e-17+5.55111512e-17j,\n",
       "             5.89353750e-33+0.00000000e+00j]],\n",
       "          input_dims=(2,), output_dims=(2,)))"
      ]
     },
     "execution_count": 10,
     "metadata": {},
     "output_type": "execute_result"
    }
   ],
   "source": [
    "# In the case that q1 is |0> and q0 is |1>.\n",
    "# p ~ 0.25.\n",
    "# The recipient gets |0> (= q2).\n",
    "statevec_mean_cond_sample(res, [None, 0, 1])"
   ]
  },
  {
   "cell_type": "code",
   "execution_count": 11,
   "id": "16427441-f267-4fb9-8788-61cd46befd95",
   "metadata": {},
   "outputs": [
    {
     "data": {
      "text/plain": [
       "(0.2275390625,\n",
       " Operator([[ 1.00000000e+00+0.00000000e+00j,\n",
       "            -5.30287619e-17-5.55111512e-17j],\n",
       "           [-5.30287619e-17+5.55111512e-17j,\n",
       "             5.89353750e-33+0.00000000e+00j]],\n",
       "          input_dims=(2,), output_dims=(2,)))"
      ]
     },
     "execution_count": 11,
     "metadata": {},
     "output_type": "execute_result"
    }
   ],
   "source": [
    "# In the case that q1 is |1> and q0 is |0>.\n",
    "# p ~ 0.25.\n",
    "# The recipient gets |0> (= q2).\n",
    "statevec_mean_cond_sample(res, [None, 1, 0])"
   ]
  },
  {
   "cell_type": "code",
   "execution_count": 12,
   "id": "d55c9b9e-976c-4bfc-974b-12267695bbd6",
   "metadata": {},
   "outputs": [
    {
     "data": {
      "text/plain": [
       "(0.255859375,\n",
       " Operator([[ 1.00000000e+00+0.00000000e+00j,\n",
       "            -5.30287619e-17+5.55111512e-17j],\n",
       "           [-5.30287619e-17-5.55111512e-17j,\n",
       "             5.89353750e-33+0.00000000e+00j]],\n",
       "          input_dims=(2,), output_dims=(2,)))"
      ]
     },
     "execution_count": 12,
     "metadata": {},
     "output_type": "execute_result"
    }
   ],
   "source": [
    "# In the case that q1 is |1> and q1 is |1>.\n",
    "# p ~ 0.25.\n",
    "# The recipient gets |0> (= q2).\n",
    "statevec_mean_cond_sample(res, [None, 1, 1])"
   ]
  },
  {
   "cell_type": "code",
   "execution_count": null,
   "id": "e2ba6c9d-1d0d-423e-bbc4-5593eaf86381",
   "metadata": {},
   "outputs": [],
   "source": []
  }
 ],
 "metadata": {
  "kernelspec": {
   "display_name": "Python 3 (ipykernel)",
   "language": "python",
   "name": "python3"
  },
  "language_info": {
   "codemirror_mode": {
    "name": "ipython",
    "version": 3
   },
   "file_extension": ".py",
   "mimetype": "text/x-python",
   "name": "python",
   "nbconvert_exporter": "python",
   "pygments_lexer": "ipython3",
   "version": "3.10.6"
  }
 },
 "nbformat": 4,
 "nbformat_minor": 5
}
