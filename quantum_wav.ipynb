{
 "cells": [
  {
   "cell_type": "markdown",
   "id": "bab6f028-a760-4be2-b8d4-4fdf4f81fc0a",
   "metadata": {},
   "source": [
    "# Quantum WAV"
   ]
  },
  {
   "cell_type": "markdown",
   "id": "094b93dc-31e1-464d-a7f6-8c505418083b",
   "metadata": {},
   "source": [
    "This example shows tests of generating WAV audio files from quantum circuits by mapping simply state to frequency.  \n",
    "This mapping has no physical meaning. \n",
    "Unfortunately, the sounds were boring as far as I generated and listened to them.\n",
    "Some improvements are needed for generating interesting sounds."
   ]
  },
  {
   "cell_type": "markdown",
   "id": "e20d218c-af42-4d0e-ba0d-2c5946075306",
   "metadata": {},
   "source": [
    "<h2>\n",
    "[CAUTION]\n",
    "Playing generated WAV files may cause loud and noised sounds.\n",
    "These sounds may damage humans, animals and things, such as PC, speaker, etc.\n",
    "Please use carefully this codes and generated WAV files.\n",
    "I (author) don't take responsibility for any damage.\n",
    "</h2>"
   ]
  },
  {
   "cell_type": "code",
   "execution_count": 1,
   "id": "9ff01a3f-e7f2-4a84-b61d-ddceccd5aec4",
   "metadata": {},
   "outputs": [],
   "source": [
    "# For WAV output.\n",
    "import wave\n",
    "import struct\n",
    "from scipy import fromstring, int16\n",
    "# from pylab import *"
   ]
  },
  {
   "cell_type": "code",
   "execution_count": 2,
   "id": "d1de90d4-99cb-4950-a196-3a1f3886b594",
   "metadata": {},
   "outputs": [
    {
     "name": "stdout",
     "output_type": "stream",
     "text": [
      "Imports Successful\n"
     ]
    }
   ],
   "source": [
    "import numpy as np\n",
    "import itertools\n",
    "from math import pi\n",
    "import matplotlib.pyplot as plt\n",
    "import re\n",
    "\n",
    "#%matplotlib inline\n",
    "\n",
    "# qiskit.\n",
    "from qiskit import (\n",
    "    QuantumCircuit,\n",
    "    ClassicalRegister,\n",
    "    QuantumRegister,\n",
    "    execute,\n",
    "    BasicAer,\n",
    "    Aer,\n",
    "    transpile,\n",
    "    assemble,\n",
    ")\n",
    "from qiskit.visualization import plot_histogram, plot_bloch_multivector\n",
    "from qiskit.quantum_info.operators import Operator\n",
    "from qiskit.quantum_info import Statevector, partial_trace\n",
    "from qiskit.providers.aer.library import save_statevector\n",
    "from qiskit.circuit.library.standard_gates import UGate\n",
    "from qiskit.circuit.library import XGate, QuadraticForm\n",
    "\n",
    "print(\"Imports Successful\")\n"
   ]
  },
  {
   "cell_type": "code",
   "execution_count": 3,
   "id": "57d28e69-37bb-4fc5-926e-9e1b5bb6f42b",
   "metadata": {},
   "outputs": [],
   "source": [
    "# Workaround to use qasm.\n",
    "\n",
    "gate_def_ptn = re.compile('gate\\s+(?P<gatename>[^\\s\\(\\)]+)(?P<param>\\([^\\s\\(\\)]+\\))*\\s+(?P<args>[^\\s;]+)')\n",
    "gate_dup_ptn1 = re.compile('gate\\s+([^\\s\\(\\)]+)\\s+([^\\s;]+)\\s*{\\s*\\\\1\\s+\\\\2\\s*;\\s*}')\n",
    "gate_suf_ptn1 = re.compile('([^_]+)_[0-9]+')\n",
    "\n",
    "def get_gate_def(qasm):\n",
    "    m = re.search(gate_def_ptn, qasm)\n",
    "    return None if m is None else m\n",
    "\n",
    "def create_gate_repl_str(qasm_list):\n",
    "    gate_repl_str_list = []\n",
    "    for qasm in qasm_list:\n",
    "        m = get_gate_def(qasm)\n",
    "        if m is None:\n",
    "            continue\n",
    "        argn = len(m['args'].split(\",\"))\n",
    "        if m['param'] is None:\n",
    "            gate_ptn_str = f\"({m['gatename']})\\s+(([^\\s,]+)(,[^\\s,]+){{{argn-1}}})([\\s;])\"\n",
    "            gatename = gate_suf_ptn1.sub('\\\\1', m['gatename'])\n",
    "            repl_ptn_str = f\"{gatename}_{argn} \\\\2\\\\{5}\"\n",
    "            gate_repl_str_list.append((gate_ptn_str, repl_ptn_str))\n",
    "            gate_ptn_str = f\"({gatename})\\s+(([^\\s,]+)(,[^\\s,]+){{{argn-1}}})([\\s;])\"\n",
    "            repl_ptn_str = f\"{gatename}_{argn} \\\\2\\\\{5}\"\n",
    "            gate_repl_str_list.append((gate_ptn_str, repl_ptn_str))\n",
    "        else:\n",
    "            gate_ptn_str = f\"({m['gatename']})\\(([^\\s\\(\\)]+)\\)\\s+(([^\\s,]+)(,[^\\s,]+){{{argn-1}}})([\\s;])\"\n",
    "            gatename = gate_suf_ptn1.sub('\\\\1', m['gatename'])\n",
    "            repl_ptn_str = f\"{gatename}_{argn}(\\\\2) \\\\3\\\\{6}\"\n",
    "            gate_repl_str_list.append((gate_ptn_str, repl_ptn_str))\n",
    "            gate_ptn_str = f\"({gatename})\\(([^\\s\\(\\)]+)\\)\\s+(([^\\s,]+)(,[^\\s,]+){{{argn-1}}})([\\s;])\"\n",
    "            repl_ptn_str = f\"{gatename}_{argn}(\\\\2) \\\\3\\\\{6}\"\n",
    "            gate_repl_str_list.append((gate_ptn_str, repl_ptn_str))\n",
    "    return gate_repl_str_list\n",
    "\n",
    "def replace_gate(qasm_list, gate_repl_str_list):\n",
    "    def replace_one_gate(qasm_list, gate_repl_str):\n",
    "        gate_ptn_str, repl_ptn_str = gate_repl_str\n",
    "        gate_ptn = re.compile(gate_ptn_str)\n",
    "        for i in range(len(qasm_list)):\n",
    "            qasm_list[i] = gate_ptn.sub(repl_ptn_str, qasm_list[i])\n",
    "    \n",
    "    for gate_repl_str in gate_repl_str_list:\n",
    "        replace_one_gate(qasm_list, gate_repl_str)\n",
    "\n",
    "def remove_duplicate_def(qasm_list):\n",
    "    for i in range(len(qasm_list)):\n",
    "        m = re.search(gate_dup_ptn1, qasm_list[i])\n",
    "        if m is not None:\n",
    "            qasm_list[i] = \"\"\n"
   ]
  },
  {
   "cell_type": "code",
   "execution_count": 4,
   "id": "17acef25-3ef0-44b2-9acd-765dbd07d911",
   "metadata": {},
   "outputs": [],
   "source": [
    "# Split quantum circuit by the barrier.\n",
    "def create_split_qc_list(qc):\n",
    "    qc_qasm = qc.qasm()\n",
    "    initialize = []\n",
    "    logics = []\n",
    "    tmp = []\n",
    "    blockn = 0\n",
    "    for line, elem in enumerate(qc_qasm.splitlines()):\n",
    "        if any([elem.startswith(t) for t in ['OPENQASM', 'include', 'qreg', 'creg']]) or '{' in elem:\n",
    "            initialize.append(elem)\n",
    "        elif elem.startswith('barrier'):\n",
    "            logics.append(tmp)\n",
    "            tmp = []\n",
    "            blockn += 1\n",
    "        else:\n",
    "            tmp.append(elem)\n",
    "    if len(tmp) > 0:\n",
    "        logics.append(tmp)\n",
    "    remove_duplicate_def(initialize)\n",
    "    gate_repl_str_list = create_gate_repl_str(initialize)\n",
    "    replace_gate(initialize, gate_repl_str_list)\n",
    "    for i in range(len(logics)):\n",
    "        replace_gate(logics[i], gate_repl_str_list)\n",
    "    qasm_list = [initialize + logic for logic in logics]\n",
    "    return [QuantumCircuit.from_qasm_str('\\n'.join(qasm)) for qasm in qasm_list]\n",
    "\n",
    "# Calcurate each statevector output of split quantum circuits.\n",
    "def get_statevector_list(qc, target_qubit=None):\n",
    "    def qc_with_initialize(qc, state):\n",
    "        tmpqc = QuantumCircuit(qc.num_qubits, qc.num_clbits)\n",
    "        tmpqc.initialize(state, range(qc.num_qubits))\n",
    "        tmpqc = qc.compose(tmpqc, range(qc.num_qubits), front=True)\n",
    "        tmpqc.save_statevector()\n",
    "        return tmpqc\n",
    "    \n",
    "    def evolve(qc, state):\n",
    "        tmpqc = qc_with_initialize(qc, state)\n",
    "        aer_sim = Aer.get_backend(\"aer_simulator\")\n",
    "        trans_tmpqc = transpile(tmpqc, aer_sim)\n",
    "        result = aer_sim.run(trans_tmpqc, shots=1).result()\n",
    "        return result.data(0)['statevector']\n",
    "    \n",
    "    if target_qubit is None:\n",
    "        target_qubit = list(range(qc.num_qubits))\n",
    "    trace_qubit = [ i for i in range(qc.num_qubits) if i not in target_qubit ]\n",
    "    split_qc_list = create_split_qc_list(qc)\n",
    "    state = Statevector.from_int(0, 2**qc.num_qubits)\n",
    "    state_list = []\n",
    "    partial_state = partial_trace(state, trace_qubit).to_statevector()\n",
    "    state_list.append(partial_state)\n",
    "    for split_qc in split_qc_list:\n",
    "        state = evolve(split_qc, state)\n",
    "        partial_state = partial_trace(state, trace_qubit).to_statevector()\n",
    "        state_list.append(partial_state)\n",
    "    return state_list\n",
    "\n",
    "# Convert statevector to frequency data.\n",
    "def create_freq_datas(state_list):\n",
    "    N = 512\n",
    "    N1 = 1024\n",
    "    shift = 64\n",
    "    normal_span = 16\n",
    "    amp = 10000\n",
    "    def create_freq_data(state):\n",
    "        n_state = len(state)\n",
    "        freq_data_list = []\n",
    "        if N > n_state:\n",
    "            span = normal_span\n",
    "            loop = normal_span\n",
    "            step = int(N / n_state)\n",
    "            state_data = state * amp\n",
    "            tmp_freq_data = np.zeros(N1 ,dtype = 'complex_')\n",
    "            tmp_freq_data[int((N1-N)/2):int(N1-(N1-N)/2):step] = state_data\n",
    "            freq_data = np.zeros(N1 ,dtype = 'complex_')\n",
    "            freq_data[shift:shift+int(N/2)] = tmp_freq_data[int((N1-N)/2):int(N1/2)]\n",
    "            freq_data[N1-int(N/2)-shift:N1-shift] = tmp_freq_data[int(N1/2):int((N1+N)/2)]\n",
    "            for l in range(loop):\n",
    "                freq_data_list.append(freq_data)\n",
    "        elif normal_span * N > n_state:\n",
    "            span = normal_span\n",
    "            loop = int(normal_span * N / n_state)\n",
    "            step = 1\n",
    "            state_data = state * amp\n",
    "            for l in range(loop):\n",
    "                for k in range(int(n_state/N)):\n",
    "                    tmp_freq_data = np.zeros(N1 ,dtype = 'complex_')\n",
    "                    tmp_freq_data[int((N1-N)/2):int(N1-(N1-N)/2):step] = state_data[k*N:(k+1)*N]\n",
    "                    freq_data = np.zeros(N1 ,dtype = 'complex_')\n",
    "                    freq_data[shift:int(N/2)+shift] = tmp_freq_data[int((N1-N)/2):int(N1/2)]\n",
    "                    freq_data[N1-int(N/2)-shift:N1-shift] = tmp_freq_data[int(N1/2):int((N1+N)/2)]\n",
    "                    freq_data_list.append(freq_data)\n",
    "        else:\n",
    "            span = int(n_state / N)\n",
    "            loop = 1\n",
    "            step = 1\n",
    "            state_data = state * amp\n",
    "            for l in range(loop):\n",
    "                for k in range(int(n_state/N)):\n",
    "                    tmp_freq_data = np.zeros(N1 ,dtype = 'complex_')\n",
    "                    tmp_freq_data[int((N1-N)/2):int(N1-(N1-N)/2):step] = state_data[k*N:(k+1)*N]\n",
    "                    freq_data = np.zeros(N1 ,dtype = 'complex_')\n",
    "                    freq_data[shift:int(N/2)+shift] = tmp_freq_data[int((N1-N)/2):int(N1/2)]\n",
    "                    freq_data[N1-int(N/2)-shift:N1-shift] = tmp_freq_data[int(N1/2):int((N1+N)/2)]\n",
    "                    freq_data_list.append(freq_data)\n",
    "        return freq_data_list, span\n",
    "    \n",
    "    total_freq_data_list = []\n",
    "    for state in state_list:\n",
    "        state_np = np.array(state)\n",
    "        freq_data_list, span = create_freq_data(state_np)\n",
    "        # total_freq_data_list.append(freq_data_list)\n",
    "        total_freq_data_list.extend(freq_data_list)\n",
    "    \n",
    "    return total_freq_data_list, span\n",
    "\n",
    "def inverse_fourier_2ch(k):\n",
    "    ch1 = []\n",
    "    ch2 = []\n",
    "    for sample in k:\n",
    "        inv = np.fft.ifft(sample)\n",
    "        # tmp = np.where(inv < 0, 0, inv)\n",
    "        ch1.extend(inv.real)\n",
    "        ch2.extend(inv.imag)\n",
    "    return ch1, ch2\n",
    "\n",
    "def compose_wav_2ch(ch1, ch2):\n",
    "    ret = []\n",
    "    number = len(ch1) if len(ch2) > len(ch1) else len(ch2)\n",
    "    for i in range(0, number -1):\n",
    "        data = [int(ch2[i]), int(ch1[i])]\n",
    "        ret.extend(data)\n",
    "    return ret"
   ]
  },
  {
   "cell_type": "markdown",
   "id": "ffbb783d-9f4b-4ffc-814e-11df73f07fa9",
   "metadata": {},
   "source": [
    "## Test 1: Not Quantum"
   ]
  },
  {
   "cell_type": "code",
   "execution_count": 5,
   "id": "b263c063-0c32-4e16-bb33-10d2e68d0d34",
   "metadata": {},
   "outputs": [],
   "source": [
    "def classic_qc():\n",
    "    qc = QuantumCircuit(4)\n",
    "    qc.x(0)\n",
    "    qc.barrier()\n",
    "    qc.x(1)\n",
    "    qc.barrier()\n",
    "    qc.x(2)\n",
    "    qc.barrier()\n",
    "    qc.x(1)\n",
    "    qc.barrier()\n",
    "    qc.x(3)\n",
    "    return qc\n"
   ]
  },
  {
   "cell_type": "code",
   "execution_count": 6,
   "id": "2bf763b9-5fef-4a88-99da-40561b0157f4",
   "metadata": {},
   "outputs": [
    {
     "data": {
      "image/png": "[encoded data removed]",
      "text/plain": [
       "<Figure size 628.397x264.88 with 1 Axes>"
      ]
     },
     "execution_count": 6,
     "metadata": {},
     "output_type": "execute_result"
    }
   ],
   "source": [
    "# Make a quantum circuit.\n",
    "qc = classic_qc()\n",
    "qc.draw(output=\"mpl\")"
   ]
  },
  {
   "cell_type": "code",
   "execution_count": 7,
   "id": "76c3aea9-af1c-43f3-a969-323b01abef75",
   "metadata": {},
   "outputs": [
    {
     "name": "stdout",
     "output_type": "stream",
     "text": [
      "96\n"
     ]
    }
   ],
   "source": [
    "# Simulation.\n",
    "state_list = get_statevector_list(qc)\n",
    "total_freq_data_list, span = create_freq_datas(state_list)\n",
    "print(len(total_freq_data_list))"
   ]
  },
  {
   "cell_type": "code",
   "execution_count": 8,
   "id": "9e28a018-0c2f-4ebe-9aed-5446093e626d",
   "metadata": {},
   "outputs": [
    {
     "data": {
      "text/plain": [
       "<matplotlib.image.AxesImage at 0x7fc069218130>"
      ]
     },
     "execution_count": 8,
     "metadata": {},
     "output_type": "execute_result"
    },
    {
     "data": {
      "image/png": "[encoded data removed]",
      "text/plain": [
       "<Figure size 432x288 with 1 Axes>"
      ]
     },
     "metadata": {
      "needs_background": "light"
     },
     "output_type": "display_data"
    }
   ],
   "source": [
    "# Plot sound frequency spectra.\n",
    "# time (col) v.s. frequency (row).\n",
    "frand_np = np.array(total_freq_data_list)\n",
    "data = np.sqrt(frand_np.real**2 + frand_np.imag**2)\n",
    "plt.imshow(data, aspect='auto')"
   ]
  },
  {
   "cell_type": "code",
   "execution_count": 9,
   "id": "5b76f96a-8726-45ab-bb31-5ee27dea6dcb",
   "metadata": {},
   "outputs": [],
   "source": [
    "# Make a WAV file.\n",
    "ch1, ch2 = inverse_fourier_2ch(total_freq_data_list)\n",
    "raw_data = compose_wav_2ch(ch1, ch2)\n",
    "out_data = struct.pack(\"h\" * len(raw_data), *raw_data)\n",
    "ch = 2\n",
    "width = 2\n",
    "framerate = 22050\n",
    "outf = 'test1.wav'\n",
    "ww = wave.open(outf, 'w')\n",
    "ww.setnchannels(ch)\n",
    "ww.setsampwidth(width)\n",
    "ww.setframerate(framerate)\n",
    "ww.writeframes(out_data)\n",
    "ww.close()"
   ]
  },
  {
   "cell_type": "markdown",
   "id": "6f0802fa-dd73-4ca2-917c-646cf124c37e",
   "metadata": {},
   "source": [
    "# Test 2: Quantum Switch"
   ]
  },
  {
   "cell_type": "code",
   "execution_count": 10,
   "id": "c136125f-2495-4c6c-99d7-22fce285a9f3",
   "metadata": {},
   "outputs": [],
   "source": [
    "# Reference: https://github.com/schrodingers-koala/quantum-playground/blob/main/quantum_switch.ipynb\n",
    "def qswitch_g(qc, f, g, measure_flag=True):    \n",
    "    qc.h(3)\n",
    "    qc.cx(3,2)\n",
    "\n",
    "    qc.barrier()\n",
    "    \n",
    "    qc.fredkin(0, 1, 2)\n",
    "    qc.x(0)\n",
    "    g(qc, 1)\n",
    "    f(qc, 2)\n",
    "    qc.fredkin(0, 1, 2)\n",
    "\n",
    "    qc.barrier()\n",
    "\n",
    "    qc.cx(2,3)\n",
    "    qc.h(2)\n",
    "    \n",
    "    qc.barrier()\n",
    "\n",
    "    if measure_flag:\n",
    "        qc.measure(2, 0)\n",
    "        qc.measure(3, 1)\n",
    "\n",
    "    qc.barrier()\n",
    "    \n",
    "    return qc\n",
    "\n",
    "def qswitch_qc(control_x, p_i, p_f, p_g, p_i2=pi/2, p_f2=pi/2, p_g2=pi/2, measure_flag=True, qs_measure_flag=True):  \n",
    "    theta_i, phi_i, lmd_i = p_i, p_i2, p_i2\n",
    "    theta_f, phi_f, lmd_f = p_f, p_f2, p_f2\n",
    "    theta_g, phi_g, lmd_g = p_g, p_g2, p_g2\n",
    "    def ini(qc, q):\n",
    "        qc.u(theta_i, phi_i, lmd_i, q)\n",
    "        \n",
    "    def f(qc, q):\n",
    "        qc.u(theta_f, phi_f, lmd_f, q)\n",
    "\n",
    "    def g(qc, q):\n",
    "        qc.u(theta_g, phi_g, lmd_g, q)\n",
    "\n",
    "    def inv_ini(qc, q):\n",
    "        qc.u(-theta_i, -lmd_i, -phi_i, q)\n",
    "\n",
    "    def inv_f(qc, q):\n",
    "        qc.u(-theta_f, -lmd_f, -phi_f, q)\n",
    "\n",
    "    def inv_g(qc, q):\n",
    "        qc.u(-theta_g, -lmd_g, -phi_g, q)\n",
    "\n",
    "    # Initialize\n",
    "    qc = QuantumCircuit(4, 3)\n",
    "    if control_x == 1: # quantum switch conrtol\n",
    "        qc.x(0)\n",
    "    ini(qc, 1)\n",
    "    qc.barrier()\n",
    "    # quantum switch\n",
    "    qswitch_g(qc, f, g, measure_flag=qs_measure_flag)\n",
    "    # reverse\n",
    "    if control_x == 1:\n",
    "        inv_g(qc, 1)\n",
    "        inv_f(qc, 1)\n",
    "    else:\n",
    "        inv_f(qc, 1)\n",
    "        inv_g(qc, 1)\n",
    "\n",
    "    inv_ini(qc, 1)\n",
    "    \n",
    "    if measure_flag:\n",
    "        qc.measure(1, 2)\n",
    "\n",
    "    return qc\n"
   ]
  },
  {
   "cell_type": "code",
   "execution_count": 11,
   "id": "ded18637-b330-4d53-a04c-93609435c8c5",
   "metadata": {},
   "outputs": [
    {
     "data": {
      "image/png": "[encoded data removed]",
      "text/plain": [
       "<Figure size 1591.6x686.28 with 1 Axes>"
      ]
     },
     "execution_count": 11,
     "metadata": {},
     "output_type": "execute_result"
    }
   ],
   "source": [
    "# Make a quantum circuit.\n",
    "# This example measures q1, q3, q2.\n",
    "control_x = 1\n",
    "not_control_x = ~control_x & 1\n",
    "p_i, p_f, p_g = tuple((np.random.rand(3)-0.5)*2*pi)\n",
    "p_i2, p_f2, p_g2 = tuple((np.random.rand(3)-0.5)*2*pi)\n",
    "qc = qswitch_qc(control_x, p_i, p_f, p_g, p_i2=p_i2, p_f2=p_f2, p_g2=p_g2, measure_flag=True, qs_measure_flag=True)\n",
    "qc.draw(output=\"mpl\")"
   ]
  },
  {
   "cell_type": "code",
   "execution_count": 12,
   "id": "b4761482-3c40-4a10-bd77-7772173ead4a",
   "metadata": {},
   "outputs": [
    {
     "name": "stdout",
     "output_type": "stream",
     "text": [
      "112\n"
     ]
    }
   ],
   "source": [
    "# Simulation.\n",
    "state_list = get_statevector_list(qc)\n",
    "total_freq_data_list, span = create_freq_datas(state_list)\n",
    "print(len(total_freq_data_list))"
   ]
  },
  {
   "cell_type": "code",
   "execution_count": 13,
   "id": "3f14c1ef-417b-4b3a-bdf2-5e3bdb05071d",
   "metadata": {},
   "outputs": [
    {
     "data": {
      "text/plain": [
       "<matplotlib.image.AxesImage at 0x7fc06b6b1c30>"
      ]
     },
     "execution_count": 13,
     "metadata": {},
     "output_type": "execute_result"
    },
    {
     "data": {
      "image/png": "[encoded data removed]",
      "text/plain": [
       "<Figure size 432x288 with 1 Axes>"
      ]
     },
     "metadata": {
      "needs_background": "light"
     },
     "output_type": "display_data"
    }
   ],
   "source": [
    "# Plot sound frequency spectra.\n",
    "# time (col) v.s. frequency (row).\n",
    "frand_np = np.array(total_freq_data_list)\n",
    "data = np.sqrt(frand_np.real**2 + frand_np.imag**2)\n",
    "plt.imshow(data, aspect='auto')"
   ]
  },
  {
   "cell_type": "code",
   "execution_count": 14,
   "id": "59eef23d-530a-467f-8157-9352ba7b35d2",
   "metadata": {},
   "outputs": [],
   "source": [
    "# Make a WAV file.\n",
    "ch1, ch2 = inverse_fourier_2ch(total_freq_data_list)\n",
    "raw_data = compose_wav_2ch(ch1, ch2)\n",
    "out_data = struct.pack(\"h\" * len(raw_data), *raw_data)\n",
    "ch = 2\n",
    "width = 2\n",
    "framerate = 22050\n",
    "outf = 'test2.wav'\n",
    "ww = wave.open(outf, 'w')\n",
    "ww.setnchannels(ch)\n",
    "ww.setsampwidth(width)\n",
    "ww.setframerate(framerate)\n",
    "ww.writeframes(out_data)\n",
    "ww.close()"
   ]
  },
  {
   "cell_type": "markdown",
   "id": "46b745c5-1795-4fb0-9466-ef4c603f79d4",
   "metadata": {},
   "source": [
    "# Test 3: Regular Uniform Designs"
   ]
  },
  {
   "cell_type": "code",
   "execution_count": 15,
   "id": "43150353-5c9b-4673-8126-1d8830b3e590",
   "metadata": {},
   "outputs": [],
   "source": [
    "def result_top_n(result, n):\n",
    "    res = [ [k, v] for k, v in result.items() ]\n",
    "    res.sort(key=lambda x: x[1], reverse=True)\n",
    "    k, v = zip(*res[0:min(len(result), n)])\n",
    "    return dict(zip(k, v))\n",
    "\n",
    "def print_result(result, v, b, r, k, n):\n",
    "    res = [ [k, v] for k, v in result.items() ]\n",
    "    res.sort(key=lambda x: x[1], reverse=True)\n",
    "    p = res[n][0]\n",
    "    for i in range(int(len(p)/b)):\n",
    "        print(p[i*b:(i*b+b)])"
   ]
  },
  {
   "cell_type": "code",
   "execution_count": 16,
   "id": "867b67cf-e842-4903-84fe-3944af6b0b12",
   "metadata": {},
   "outputs": [],
   "source": [
    "# Reference: https://github.com/schrodingers-koala/jupyter-jobstorm/blob/main/example/rud.ipynb\n",
    "# Apply x gate to target qubit if control_qubits[i] == 1 for any i.\n",
    "def cnx(qc, cqlist, tq):\n",
    "    n = len(cqlist)\n",
    "    cnx_gate = XGate().control(n)\n",
    "    qc.append(cnx_gate, cqlist + [tq])\n",
    "\n",
    "# Apply x gate to target qubit if control_qubits is the binary representation of n.\n",
    "def eqx(qc, cqlist, tq, n):\n",
    "    bindata = bin(n)\n",
    "    rblist = list(map(lambda x: int(x), bindata[2:]))\n",
    "    blist = list(reversed(rblist))\n",
    "    bidx = ([i for i, x in enumerate(blist) if x == 1])\n",
    "    for i in range(len(cqlist)):\n",
    "        if i in bidx:\n",
    "            continue\n",
    "        qc.x(cqlist[i])\n",
    "    cnx(qc, cqlist, tq)\n",
    "    for i in range(len(cqlist)):\n",
    "        if i in bidx:\n",
    "            continue\n",
    "        qc.x(cqlist[i])\n",
    "\n",
    "# Apply x gate to target qubit if the sum of qubits is n.\n",
    "def sumeqx(qc, sumqlist, workqlist, tq, n):\n",
    "    qubits = len(bin(len(sumqlist))) - 2\n",
    "    tmpqlist = workqlist[0:qubits]\n",
    "    qf = QuadraticForm(num_result_qubits=qubits, linear=[1]*len(sumqlist))\n",
    "    qc.append(qf, sumqlist + tmpqlist)\n",
    "    eqx(qc, tmpqlist, tq, n)\n",
    "    qc.append(qf.inverse(), sumqlist + tmpqlist)\n",
    "\n",
    "# Make a quantum circuit which verifies regular uniform designs.\n",
    "def rud_oracle(qc, v, b, r, k):\n",
    "    if b*k != v*r:\n",
    "        raise ValueError(\"b*k != v*r\")\n",
    "    \n",
    "    p = np.arange(v * b)\n",
    "    matp = p.reshape([v, b])\n",
    "    colp = matp.tolist()\n",
    "    rowp = matp.transpose().tolist()\n",
    "    \n",
    "    n_p = len(p)\n",
    "    n_col = len(colp)\n",
    "    n_row = len(rowp)\n",
    "    n_tmp = (len(bin(max(v, b))) - 2)\n",
    "    n_req_qubits = n_p + n_col + n_row + n_tmp + 1\n",
    "\n",
    "    n_qubits = len(qc.qubits)\n",
    "    if n_req_qubits > n_qubits:\n",
    "        raise ValueError(f\"rud circuit need qubits > {n_req_qubits}\")\n",
    "\n",
    "    pq = list(range(0, n_p))\n",
    "    colq = list(range(n_p, n_p + n_col))\n",
    "    rowq = list(range(n_p + n_col, n_p + n_col + n_row))\n",
    "    tmpq = list(range(n_p + n_col + n_row, n_p + n_col + n_row + n_tmp))\n",
    "    tq = n_p + n_col + n_row + n_tmp\n",
    "    \n",
    "    for i, col in enumerate(colp):\n",
    "        sumeqx(qc, list(col), tmpq, colq[i], r)\n",
    "    for i, row in enumerate(rowp):\n",
    "        sumeqx(qc, list(row), tmpq, rowq[i], k)\n",
    "    cnx(qc, colq + rowq, tq)\n",
    "    for i, col in enumerate(colp):\n",
    "        sumeqx(qc, list(col), tmpq, colq[i], r)\n",
    "    for i, row in enumerate(rowp):\n",
    "        sumeqx(qc, list(row), tmpq, rowq[i], k)\n",
    "    return pq, colq, rowq, tmpq, tq\n",
    "\n",
    "# One step of Grover algorithm\n",
    "def rud_grover_step(qc, v, b, r, k):\n",
    "    pq, colq, rowq, tmpq, tq = rud_oracle(qc, v, b, r, k)\n",
    "    for i in pq:\n",
    "        qc.h(i)\n",
    "        qc.x(i)\n",
    "        if i==pq[-1]:\n",
    "            qc.h(i)\n",
    "    cnx(qc, pq[0:-1], pq[-1])\n",
    "    for i in pq:\n",
    "        qc.h(i)\n",
    "        qc.x(i)\n",
    "        if i==pq[-1]:\n",
    "            qc.h(i)\n",
    "\n",
    "# Grover algorithm\n",
    "def rud_grover(v, b, r, k, itn):\n",
    "    n_p = v * b\n",
    "    n_col = v\n",
    "    n_row = b\n",
    "    n_tmp = (len(bin(max(v, b))) - 2)\n",
    "    n_req_qubits = n_p + n_col + n_row + n_tmp + 1\n",
    "    \n",
    "    qc = QuantumCircuit(n_req_qubits, n_p)\n",
    "    for i in range(n_p):\n",
    "        qc.h(i)\n",
    "    qc.x(n_req_qubits - 1)\n",
    "    qc.h(n_req_qubits - 1)\n",
    "    for loop in range(itn):\n",
    "        rud_grover_step(qc, v, b, r, k)\n",
    "        qc.barrier()\n",
    "    #for i in range(n_p):\n",
    "    #    qc.measure(i, i)\n",
    "    return qc"
   ]
  },
  {
   "cell_type": "code",
   "execution_count": 17,
   "id": "9a703405-29ae-4bb0-b260-3bb5ff3ea388",
   "metadata": {},
   "outputs": [],
   "source": [
    "# Make a quantum circuit.\n",
    "param_vbrk = (3, 3, 1, 1)\n",
    "steps = 2\n",
    "qc = rud_grover(*param_vbrk, steps)\n",
    "aer_sim = Aer.get_backend(\"aer_simulator\")\n",
    "trans_qc = transpile(qc, aer_sim)"
   ]
  },
  {
   "cell_type": "code",
   "execution_count": 18,
   "id": "9bfed22c-340e-4fe2-82cb-c887e1ce3bae",
   "metadata": {},
   "outputs": [
    {
     "name": "stdout",
     "output_type": "stream",
     "text": [
      "48\n"
     ]
    }
   ],
   "source": [
    "# Simulation.\n",
    "state_list = get_statevector_list(qc, list(range(9)))\n",
    "total_freq_data_list, span = create_freq_datas(state_list)\n",
    "print(len(total_freq_data_list))"
   ]
  },
  {
   "cell_type": "code",
   "execution_count": 19,
   "id": "eb9acbda-f2f8-4655-a1ba-1c62e68a723a",
   "metadata": {},
   "outputs": [
    {
     "name": "stdout",
     "output_type": "stream",
     "text": [
      "100\n",
      "010\n",
      "001\n"
     ]
    }
   ],
   "source": [
    "result = state_list[2].sample_counts(shots=4096)\n",
    "# Get top 10 solutions\n",
    "result10 = result_top_n(result, 10)\n",
    "# print result[0]\n",
    "print_result(result10, *param_vbrk, 0)"
   ]
  },
  {
   "cell_type": "code",
   "execution_count": 20,
   "id": "836c2ccb-74da-4fd3-834b-15dd79fe6f23",
   "metadata": {},
   "outputs": [
    {
     "data": {
      "image/png": "[encoded data removed]",
      "text/plain": [
       "<Figure size 504x360 with 1 Axes>"
      ]
     },
     "execution_count": 20,
     "metadata": {},
     "output_type": "execute_result"
    }
   ],
   "source": [
    "plot_histogram(result10)"
   ]
  },
  {
   "cell_type": "code",
   "execution_count": 21,
   "id": "aee1b009-8d2f-4bb3-89a9-960da05ab946",
   "metadata": {},
   "outputs": [
    {
     "data": {
      "text/plain": [
       "<matplotlib.image.AxesImage at 0x7fc06b5a2bf0>"
      ]
     },
     "execution_count": 21,
     "metadata": {},
     "output_type": "execute_result"
    },
    {
     "data": {
      "image/png": "[encoded data removed]",
      "text/plain": [
       "<Figure size 432x288 with 1 Axes>"
      ]
     },
     "metadata": {
      "needs_background": "light"
     },
     "output_type": "display_data"
    }
   ],
   "source": [
    "# Plot sound frequency spectra.\n",
    "# time (col) v.s. frequency (row).\n",
    "frand_np = np.array(total_freq_data_list)\n",
    "data = np.sqrt(frand_np.real**2 + frand_np.imag**2)\n",
    "plt.imshow(data[16*1:16*2,:], aspect='auto')\n",
    "# plt.imshow(data, aspect='auto')"
   ]
  },
  {
   "cell_type": "code",
   "execution_count": 22,
   "id": "18cc2c51-9078-4a59-a2f2-e176f85242d4",
   "metadata": {},
   "outputs": [],
   "source": [
    "# Make a WAV file.\n",
    "ch1, ch2 = inverse_fourier_2ch(total_freq_data_list)\n",
    "raw_data = compose_wav_2ch(ch1, ch2)\n",
    "out_data = struct.pack(\"h\" * len(raw_data), *raw_data)\n",
    "ch = 2\n",
    "width = 2\n",
    "framerate = 22050\n",
    "outf = 'test3.wav'\n",
    "ww = wave.open(outf, 'w')\n",
    "ww.setnchannels(ch)\n",
    "ww.setsampwidth(width)\n",
    "ww.setframerate(framerate)\n",
    "ww.writeframes(out_data)\n",
    "ww.close()"
   ]
  },
  {
   "cell_type": "code",
   "execution_count": null,
   "id": "c9f46226-4d0f-411a-9c60-29015a240f80",
   "metadata": {},
   "outputs": [],
   "source": []
  }
 ],
 "metadata": {
  "kernelspec": {
   "display_name": "Python 3 (ipykernel)",
   "language": "python",
   "name": "python3"
  },
  "language_info": {
   "codemirror_mode": {
    "name": "ipython",
    "version": 3
   },
   "file_extension": ".py",
   "mimetype": "text/x-python",
   "name": "python",
   "nbconvert_exporter": "python",
   "pygments_lexer": "ipython3",
   "version": "3.10.6"
  }
 },
 "nbformat": 4,
 "nbformat_minor": 5
}
